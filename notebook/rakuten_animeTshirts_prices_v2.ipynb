{
 "cells": [
  {
   "cell_type": "markdown",
   "id": "076a3504-b6ce-4f01-a266-1527bef7c199",
   "metadata": {},
   "source": [
    "# Ref"
   ]
  },
  {
   "cell_type": "markdown",
   "id": "4d96cbd4-e6db-450f-9b19-ba877360406d",
   "metadata": {},
   "source": [
    "[ref](https://jamtrading.jp/blogs/jam/1024509/)"
   ]
  },
  {
   "cell_type": "markdown",
   "id": "d8c3a26a-bb5b-4bba-8101-99fa32e5e824",
   "metadata": {},
   "source": [
    "# Design"
   ]
  },
  {
   "cell_type": "markdown",
   "id": "717c902a-c177-4140-95e1-44f676dc92ef",
   "metadata": {},
   "source": [
    "1. 設定\n",
    "2. アニメTシャツのデータを楽天API経由で取得\n",
    "3. 取得したデータから30商品に満たないアニメをデータから落とす\n",
    "4. anime_name列に格納されている値が、name列に含まれていない商品を落とす\n",
    "5. anime_name列に対応する別名が、name列に含まれていない商品を落とす\n",
    "6. コラボ商品ではない商品を落とす\n",
    "7. キャラ単体をアニメに紐づける\n",
    "8. ヴィンテージワードを含む商品を残す"
   ]
  },
  {
   "cell_type": "markdown",
   "id": "07f64f63-2c6a-4ee7-b0eb-70f2c867c9fe",
   "metadata": {},
   "source": [
    "# Import"
   ]
  },
  {
   "cell_type": "code",
   "execution_count": 1,
   "id": "8417d04c-2aad-4094-a799-28f75a1e6a33",
   "metadata": {},
   "outputs": [
    {
     "name": "stderr",
     "output_type": "stream",
     "text": [
      "\n",
      "Bad key ; font.family in file /Users/ozawaatsushi/.matplotlib/matplotlibrc, line 262 ('; font.family:  IPAexGothic')\n",
      "You probably need to get an updated matplotlibrc file from\n",
      "https://github.com/matplotlib/matplotlib/blob/v3.9.0/lib/matplotlib/mpl-data/matplotlibrc\n",
      "or from the matplotlib source distribution\n"
     ]
    },
    {
     "name": "stdout",
     "output_type": "stream",
     "text": [
      "Now: Local env\n"
     ]
    }
   ],
   "source": [
    "import re\n",
    "import sys\n",
    "\n",
    "sys.path.append(\"../\")\n",
    "import json\n",
    "import warnings\n",
    "from string import Template\n",
    "from time import sleep\n",
    "\n",
    "import matplotlib.pyplot as plt\n",
    "import pandas as pd\n",
    "import requests\n",
    "from tqdm import tqdm\n",
    "from vook_db_lambda.config import MAX_PAGE, REQ_URL, WANT_ITEMS_RAKUTEN, req_params"
   ]
  },
  {
   "cell_type": "code",
   "execution_count": 2,
   "id": "fe48e40a-4d5f-40e1-86cb-8b1a425e7413",
   "metadata": {},
   "outputs": [],
   "source": [
    "anime_list = [\n",
    "    \"AKIRA\",\n",
    "    \"攻殻機動隊\",\n",
    "    \"鋼の錬金術師\",\n",
    "    \"犬夜叉\",\n",
    "    \"るろうに剣心\",\n",
    "    \"GunSmith Cats\",\n",
    "    \"ドラゴンボールZ\",\n",
    "    \"NARUTO\",\n",
    "    \"サムライチャンプルー\",\n",
    "    \"SLAM DUNK\",\n",
    "    \"ガッチャマン\",\n",
    "    \"Speed Racer\",\n",
    "    \"うる星やつら\",\n",
    "    \"ジョジョの奇妙な冒険\",\n",
    "]\n",
    "\n",
    "\n",
    "item = \"Tシャツ\"\n",
    "req_params[\"minPrice\"] = 10000\n",
    "MAX_PAGE = 100\n",
    "not_200_msg = Template(\"ErrorCode -> $res_code\\nError -> $res['error']\\nPage -> $cnt\")\n",
    "not_hit_msg = \"返ってきた商品数の数が0なので、ループ終了\"\n",
    "max_page_msg = \"MAX PAGEに到達したので、ループ終了\""
   ]
  },
  {
   "cell_type": "code",
   "execution_count": 3,
   "id": "e4d74565-5234-43c8-b34b-09f39f4a0a6a",
   "metadata": {},
   "outputs": [],
   "source": [
    "def loop_request(\n",
    "    req_params: dict,\n",
    "    cnt: int,\n",
    "    df: pd.DataFrame,\n",
    "    REQ_URL: str = REQ_URL,\n",
    "    not_200_msg: str = not_200_msg,\n",
    "    not_hit_msg: str = not_hit_msg,\n",
    "    max_page_msg: str = max_page_msg,\n",
    ") -> pd.DataFrame:\n",
    "    while True:\n",
    "        req_params[\"page\"] = cnt\n",
    "        res = requests.get(REQ_URL, req_params)\n",
    "        res_code = res.status_code\n",
    "        res = json.loads(res.text)\n",
    "        d_template = {\"res_code\": res_code, \"res\": res, \"cnt\": cnt}\n",
    "        if res_code != 200:\n",
    "            print(not_200_msg.safe_substitute(d_template))\n",
    "            break\n",
    "        else:\n",
    "            if res[\"hits\"] == 0:\n",
    "                print(not_hit_msg)\n",
    "                break\n",
    "            tmp_df = pd.DataFrame(res[\"Items\"])[WANT_ITEMS_RAKUTEN]\n",
    "            df = pd.concat([df, tmp_df], ignore_index=True)\n",
    "        if cnt == MAX_PAGE:\n",
    "            print(max_page_msg)\n",
    "            break\n",
    "        cnt += 1\n",
    "        # リクエスト制限回避\n",
    "        sleep(1)\n",
    "    return df"
   ]
  },
  {
   "cell_type": "code",
   "execution_count": 4,
   "id": "dde67dc7-965f-40b8-816b-c27a0fb6547b",
   "metadata": {
    "scrolled": true
   },
   "outputs": [
    {
     "name": "stderr",
     "output_type": "stream",
     "text": [
      "  0%|                                                                                                        | 0/14 [00:00<?, ?it/s]"
     ]
    },
    {
     "name": "stdout",
     "output_type": "stream",
     "text": [
      "1:settings\n",
      "keyword:Tシャツ AKIRA\n",
      "2:loop request\n"
     ]
    },
    {
     "name": "stderr",
     "output_type": "stream",
     "text": [
      "  7%|██████▊                                                                                         | 1/14 [00:05<01:13,  5.62s/it]"
     ]
    },
    {
     "name": "stdout",
     "output_type": "stream",
     "text": [
      "返ってきた商品数の数が0なので、ループ終了\n",
      "3:postprocess\n",
      "1:settings\n",
      "keyword:Tシャツ 攻殻機動隊\n",
      "2:loop request\n"
     ]
    },
    {
     "name": "stderr",
     "output_type": "stream",
     "text": [
      " 14%|█████████████▋                                                                                  | 2/14 [00:07<00:38,  3.25s/it]"
     ]
    },
    {
     "name": "stdout",
     "output_type": "stream",
     "text": [
      "返ってきた商品数の数が0なので、ループ終了\n",
      "3:postprocess\n",
      "1:settings\n",
      "keyword:Tシャツ 鋼の錬金術師\n",
      "2:loop request\n"
     ]
    },
    {
     "name": "stderr",
     "output_type": "stream",
     "text": [
      " 21%|████████████████████▌                                                                           | 3/14 [00:08<00:27,  2.52s/it]"
     ]
    },
    {
     "name": "stdout",
     "output_type": "stream",
     "text": [
      "返ってきた商品数の数が0なので、ループ終了\n",
      "3:postprocess\n",
      "1:settings\n",
      "keyword:Tシャツ 犬夜叉\n",
      "2:loop request\n"
     ]
    },
    {
     "name": "stderr",
     "output_type": "stream",
     "text": [
      " 29%|███████████████████████████▍                                                                    | 4/14 [00:10<00:21,  2.17s/it]"
     ]
    },
    {
     "name": "stdout",
     "output_type": "stream",
     "text": [
      "返ってきた商品数の数が0なので、ループ終了\n",
      "3:postprocess\n",
      "1:settings\n",
      "keyword:Tシャツ るろうに剣心\n",
      "2:loop request\n"
     ]
    },
    {
     "name": "stderr",
     "output_type": "stream",
     "text": [
      " 36%|██████████████████████████████████▎                                                             | 5/14 [00:12<00:18,  2.00s/it]"
     ]
    },
    {
     "name": "stdout",
     "output_type": "stream",
     "text": [
      "返ってきた商品数の数が0なので、ループ終了\n",
      "3:postprocess\n",
      "1:settings\n",
      "keyword:Tシャツ GunSmith Cats\n",
      "2:loop request\n"
     ]
    },
    {
     "name": "stderr",
     "output_type": "stream",
     "text": [
      " 43%|█████████████████████████████████████████▏                                                      | 6/14 [00:12<00:11,  1.42s/it]"
     ]
    },
    {
     "name": "stdout",
     "output_type": "stream",
     "text": [
      "返ってきた商品数の数が0なので、ループ終了\n",
      "3:postprocess\n",
      "1:settings\n",
      "keyword:Tシャツ ドラゴンボールZ\n",
      "2:loop request\n"
     ]
    },
    {
     "name": "stderr",
     "output_type": "stream",
     "text": [
      " 50%|████████████████████████████████████████████████                                                | 7/14 [00:14<00:10,  1.50s/it]"
     ]
    },
    {
     "name": "stdout",
     "output_type": "stream",
     "text": [
      "返ってきた商品数の数が0なので、ループ終了\n",
      "3:postprocess\n",
      "1:settings\n",
      "keyword:Tシャツ NARUTO\n",
      "2:loop request\n"
     ]
    },
    {
     "name": "stderr",
     "output_type": "stream",
     "text": [
      " 57%|██████████████████████████████████████████████████████▊                                         | 8/14 [00:17<00:11,  1.93s/it]"
     ]
    },
    {
     "name": "stdout",
     "output_type": "stream",
     "text": [
      "返ってきた商品数の数が0なので、ループ終了\n",
      "3:postprocess\n",
      "1:settings\n",
      "keyword:Tシャツ サムライチャンプルー\n",
      "2:loop request\n"
     ]
    },
    {
     "name": "stderr",
     "output_type": "stream",
     "text": [
      " 64%|█████████████████████████████████████████████████████████████▋                                  | 9/14 [00:17<00:07,  1.41s/it]"
     ]
    },
    {
     "name": "stdout",
     "output_type": "stream",
     "text": [
      "返ってきた商品数の数が0なので、ループ終了\n",
      "3:postprocess\n",
      "1:settings\n",
      "keyword:Tシャツ SLAM DUNK\n",
      "2:loop request\n"
     ]
    },
    {
     "name": "stderr",
     "output_type": "stream",
     "text": [
      " 71%|███████████████████████████████████████████████████████████████████▊                           | 10/14 [00:18<00:05,  1.46s/it]"
     ]
    },
    {
     "name": "stdout",
     "output_type": "stream",
     "text": [
      "返ってきた商品数の数が0なので、ループ終了\n",
      "3:postprocess\n",
      "1:settings\n",
      "keyword:Tシャツ ガッチャマン\n",
      "2:loop request\n"
     ]
    },
    {
     "name": "stderr",
     "output_type": "stream",
     "text": [
      " 79%|██████████████████████████████████████████████████████████████████████████▋                    | 11/14 [00:19<00:03,  1.10s/it]"
     ]
    },
    {
     "name": "stdout",
     "output_type": "stream",
     "text": [
      "返ってきた商品数の数が0なので、ループ終了\n",
      "3:postprocess\n",
      "1:settings\n",
      "keyword:Tシャツ Speed Racer\n",
      "2:loop request\n"
     ]
    },
    {
     "name": "stderr",
     "output_type": "stream",
     "text": [
      " 86%|█████████████████████████████████████████████████████████████████████████████████▍             | 12/14 [00:21<00:03,  1.52s/it]"
     ]
    },
    {
     "name": "stdout",
     "output_type": "stream",
     "text": [
      "返ってきた商品数の数が0なので、ループ終了\n",
      "3:postprocess\n",
      "1:settings\n",
      "keyword:Tシャツ うる星やつら\n",
      "2:loop request\n"
     ]
    },
    {
     "name": "stderr",
     "output_type": "stream",
     "text": [
      " 93%|████████████████████████████████████████████████████████████████████████████████████████▏      | 13/14 [00:23<00:01,  1.58s/it]"
     ]
    },
    {
     "name": "stdout",
     "output_type": "stream",
     "text": [
      "返ってきた商品数の数が0なので、ループ終了\n",
      "3:postprocess\n",
      "1:settings\n",
      "keyword:Tシャツ ジョジョの奇妙な冒険\n",
      "2:loop request\n"
     ]
    },
    {
     "name": "stderr",
     "output_type": "stream",
     "text": [
      "100%|███████████████████████████████████████████████████████████████████████████████████████████████| 14/14 [00:26<00:00,  1.89s/it]"
     ]
    },
    {
     "name": "stdout",
     "output_type": "stream",
     "text": [
      "返ってきた商品数の数が0なので、ループ終了\n",
      "3:postprocess\n"
     ]
    },
    {
     "name": "stderr",
     "output_type": "stream",
     "text": [
      "\n"
     ]
    }
   ],
   "source": [
    "l_df_main = []\n",
    "for anime_name in tqdm(anime_list):\n",
    "    print(\"1:settings\")\n",
    "    cnt = 1\n",
    "    keyword = \" \".join([item, anime_name])\n",
    "    req_params[\"page\"] = cnt\n",
    "    req_params[\"keyword\"] = keyword\n",
    "    print(f\"keyword:{keyword}\")\n",
    "    print(\"2:loop request\")\n",
    "    df = pd.DataFrame(columns=WANT_ITEMS_RAKUTEN)\n",
    "    df = loop_request(req_params, cnt, df)\n",
    "    print(\"3:postprocess\")\n",
    "    df_main = df.rename(\n",
    "        columns={\"itemName\": \"name\", \"itemPrice\": \"price\", \"itemUrl\": \"url\"}\n",
    "    )\n",
    "    df_main[\"anime_name\"] = anime_name\n",
    "    l_df_main.append(df_main)\n",
    "df_main_all = pd.concat(l_df_main, ignore_index=True)"
   ]
  },
  {
   "cell_type": "code",
   "execution_count": 5,
   "id": "1b050bdd-9565-4f0e-954b-b5ad0c682149",
   "metadata": {},
   "outputs": [
    {
     "name": "stdout",
     "output_type": "stream",
     "text": [
      "shape: (230, 4)\n"
     ]
    }
   ],
   "source": [
    "print(\"shape:\", df_main_all.shape)"
   ]
  },
  {
   "cell_type": "code",
   "execution_count": 6,
   "id": "63510e71-2b49-4c5c-a3ca-08950bebea79",
   "metadata": {},
   "outputs": [
    {
     "data": {
      "text/html": [
       "<div>\n",
       "<style scoped>\n",
       "    .dataframe tbody tr th:only-of-type {\n",
       "        vertical-align: middle;\n",
       "    }\n",
       "\n",
       "    .dataframe tbody tr th {\n",
       "        vertical-align: top;\n",
       "    }\n",
       "\n",
       "    .dataframe thead th {\n",
       "        text-align: right;\n",
       "    }\n",
       "</style>\n",
       "<table border=\"1\" class=\"dataframe\">\n",
       "  <thead>\n",
       "    <tr style=\"text-align: right;\">\n",
       "      <th></th>\n",
       "      <th>name</th>\n",
       "      <th>price</th>\n",
       "      <th>url</th>\n",
       "      <th>anime_name</th>\n",
       "    </tr>\n",
       "  </thead>\n",
       "  <tbody>\n",
       "    <tr>\n",
       "      <th>0</th>\n",
       "      <td>90's AKIRA Full Print 1993 Rare Design S/S Tee...</td>\n",
       "      <td>550000</td>\n",
       "      <td>https://hb.afl.rakuten.co.jp/hgc/g00sltre.brn1...</td>\n",
       "      <td>AKIRA</td>\n",
       "    </tr>\n",
       "    <tr>\n",
       "      <th>1</th>\n",
       "      <td>VINTAGE(ヴィンテージ) 90s AKIRA T-shirt ヴィンテージ 鉄雄 グリ...</td>\n",
       "      <td>240900</td>\n",
       "      <td>https://hb.afl.rakuten.co.jp/hgc/g00s6rie.brn1...</td>\n",
       "      <td>AKIRA</td>\n",
       "    </tr>\n",
       "    <tr>\n",
       "      <th>2</th>\n",
       "      <td>【中古】ヴィンテージ VINTAGE 80s～90s AKIRA KANEDA EXPLOD...</td>\n",
       "      <td>210000</td>\n",
       "      <td>https://hb.afl.rakuten.co.jp/hgc/g00rwi1e.brn1...</td>\n",
       "      <td>AKIRA</td>\n",
       "    </tr>\n",
       "    <tr>\n",
       "      <th>3</th>\n",
       "      <td>ヴィンテージ VINTAGE　サイズ:L AKIRA アキラ 金田vsジョーカープリントTシ...</td>\n",
       "      <td>206910</td>\n",
       "      <td>https://hb.afl.rakuten.co.jp/hgc/g00qmcve.brn1...</td>\n",
       "      <td>AKIRA</td>\n",
       "    </tr>\n",
       "    <tr>\n",
       "      <th>4</th>\n",
       "      <td>ヴィンテージ VINTAGE　サイズ:L AKIRA アキラ Neo-TokyoプリントTシ...</td>\n",
       "      <td>179322</td>\n",
       "      <td>https://hb.afl.rakuten.co.jp/hgc/g00qmcve.brn1...</td>\n",
       "      <td>AKIRA</td>\n",
       "    </tr>\n",
       "    <tr>\n",
       "      <th>...</th>\n",
       "      <td>...</td>\n",
       "      <td>...</td>\n",
       "      <td>...</td>\n",
       "      <td>...</td>\n",
       "    </tr>\n",
       "    <tr>\n",
       "      <th>225</th>\n",
       "      <td>JOJO x glamb・グラム　カーズ ロングスリーブ T　Kars long sleev...</td>\n",
       "      <td>11000</td>\n",
       "      <td>https://hb.afl.rakuten.co.jp/hgc/g00qdn6e.brn1...</td>\n",
       "      <td>ジョジョの奇妙な冒険</td>\n",
       "    </tr>\n",
       "    <tr>\n",
       "      <th>226</th>\n",
       "      <td>古着 ジョジョの奇妙な冒険 キャラクタープリントTシャツ メンズM /eaa442939 【...</td>\n",
       "      <td>11000</td>\n",
       "      <td>https://hb.afl.rakuten.co.jp/hgc/g00qhzfe.brn1...</td>\n",
       "      <td>ジョジョの奇妙な冒険</td>\n",
       "    </tr>\n",
       "    <tr>\n",
       "      <th>227</th>\n",
       "      <td>glamb グラム 半袖Tシャツ ユニセックス 徐倫ポケットT GB0422/JJ01 ホワ...</td>\n",
       "      <td>11000</td>\n",
       "      <td>https://hb.afl.rakuten.co.jp/hgc/g00ug4ue.brn1...</td>\n",
       "      <td>ジョジョの奇妙な冒険</td>\n",
       "    </tr>\n",
       "    <tr>\n",
       "      <th>228</th>\n",
       "      <td>JOJO x glamb グラム　Jolyne Pocket T / 徐倫ポケット Tシャツ</td>\n",
       "      <td>11000</td>\n",
       "      <td>https://hb.afl.rakuten.co.jp/hgc/g00qdn6e.brn1...</td>\n",
       "      <td>ジョジョの奇妙な冒険</td>\n",
       "    </tr>\n",
       "    <tr>\n",
       "      <th>229</th>\n",
       "      <td>【古着】 ジョジョの奇妙な冒険 Tシャツ アニメ版 DIO ディオ 少年ジャンプ ブラック系...</td>\n",
       "      <td>10725</td>\n",
       "      <td>https://hb.afl.rakuten.co.jp/hgc/g00sm8we.brn1...</td>\n",
       "      <td>ジョジョの奇妙な冒険</td>\n",
       "    </tr>\n",
       "  </tbody>\n",
       "</table>\n",
       "<p>230 rows × 4 columns</p>\n",
       "</div>"
      ],
      "text/plain": [
       "                                                  name   price  \\\n",
       "0    90's AKIRA Full Print 1993 Rare Design S/S Tee...  550000   \n",
       "1    VINTAGE(ヴィンテージ) 90s AKIRA T-shirt ヴィンテージ 鉄雄 グリ...  240900   \n",
       "2    【中古】ヴィンテージ VINTAGE 80s～90s AKIRA KANEDA EXPLOD...  210000   \n",
       "3    ヴィンテージ VINTAGE　サイズ:L AKIRA アキラ 金田vsジョーカープリントTシ...  206910   \n",
       "4    ヴィンテージ VINTAGE　サイズ:L AKIRA アキラ Neo-TokyoプリントTシ...  179322   \n",
       "..                                                 ...     ...   \n",
       "225  JOJO x glamb・グラム　カーズ ロングスリーブ T　Kars long sleev...   11000   \n",
       "226  古着 ジョジョの奇妙な冒険 キャラクタープリントTシャツ メンズM /eaa442939 【...   11000   \n",
       "227  glamb グラム 半袖Tシャツ ユニセックス 徐倫ポケットT GB0422/JJ01 ホワ...   11000   \n",
       "228     JOJO x glamb グラム　Jolyne Pocket T / 徐倫ポケット Tシャツ   11000   \n",
       "229  【古着】 ジョジョの奇妙な冒険 Tシャツ アニメ版 DIO ディオ 少年ジャンプ ブラック系...   10725   \n",
       "\n",
       "                                                   url  anime_name  \n",
       "0    https://hb.afl.rakuten.co.jp/hgc/g00sltre.brn1...       AKIRA  \n",
       "1    https://hb.afl.rakuten.co.jp/hgc/g00s6rie.brn1...       AKIRA  \n",
       "2    https://hb.afl.rakuten.co.jp/hgc/g00rwi1e.brn1...       AKIRA  \n",
       "3    https://hb.afl.rakuten.co.jp/hgc/g00qmcve.brn1...       AKIRA  \n",
       "4    https://hb.afl.rakuten.co.jp/hgc/g00qmcve.brn1...       AKIRA  \n",
       "..                                                 ...         ...  \n",
       "225  https://hb.afl.rakuten.co.jp/hgc/g00qdn6e.brn1...  ジョジョの奇妙な冒険  \n",
       "226  https://hb.afl.rakuten.co.jp/hgc/g00qhzfe.brn1...  ジョジョの奇妙な冒険  \n",
       "227  https://hb.afl.rakuten.co.jp/hgc/g00ug4ue.brn1...  ジョジョの奇妙な冒険  \n",
       "228  https://hb.afl.rakuten.co.jp/hgc/g00qdn6e.brn1...  ジョジョの奇妙な冒険  \n",
       "229  https://hb.afl.rakuten.co.jp/hgc/g00sm8we.brn1...  ジョジョの奇妙な冒険  \n",
       "\n",
       "[230 rows x 4 columns]"
      ]
     },
     "execution_count": 6,
     "metadata": {},
     "output_type": "execute_result"
    }
   ],
   "source": [
    "df_main_all"
   ]
  },
  {
   "cell_type": "code",
   "execution_count": 7,
   "id": "c30bcc6f-9b8b-4f6b-bbbd-93a2e2958b8b",
   "metadata": {},
   "outputs": [
    {
     "data": {
      "text/plain": [
       "['AKIRA',\n",
       " '攻殻機動隊',\n",
       " '鋼の錬金術師',\n",
       " '犬夜叉',\n",
       " 'るろうに剣心',\n",
       " 'GunSmith Cats',\n",
       " 'ドラゴンボールZ',\n",
       " 'NARUTO',\n",
       " 'サムライチャンプルー',\n",
       " 'SLAM DUNK',\n",
       " 'ガッチャマン',\n",
       " 'Speed Racer',\n",
       " 'うる星やつら',\n",
       " 'ジョジョの奇妙な冒険']"
      ]
     },
     "execution_count": 7,
     "metadata": {},
     "output_type": "execute_result"
    }
   ],
   "source": [
    "anime_list"
   ]
  },
  {
   "cell_type": "code",
   "execution_count": 28,
   "id": "85f8a88e-1a9b-426e-a698-0dbe3b5e702f",
   "metadata": {},
   "outputs": [],
   "source": [
    "# 表記揺れ対応用の辞書を作成\n",
    "anime_aliases = {\n",
    "    \"AKIRA\": [\n",
    "        \"アキラ\",\n",
    "        \"akira\",\n",
    "    ],\n",
    "    \"攻殻機動隊\": [],\n",
    "    \"鋼の錬金術師\": [],\n",
    "    \"犬夜叉\": [],\n",
    "    \"るろうに剣心\": [],\n",
    "    \"GunSmith Cats\": [\n",
    "        \"Gun Smith Cats\",\n",
    "        \"GUNSMITH CATS\",\n",
    "        \"GUN SMITH CATS\",\n",
    "        \"ガンスミスキャッツ\",\n",
    "        \"ガンスミス キャッツ\",\n",
    "    ],\n",
    "    \"ドラゴンボールZ\": [],\n",
    "    \"NARUTO\": [\n",
    "        \"ナルト\",\n",
    "    ],\n",
    "    \"サムライチャンプルー\": [],\n",
    "    \"SLAM DUNK\": [\n",
    "        \"スラムダンク\",\n",
    "        \"SLUMDUNK\",\n",
    "    ],\n",
    "    \"ガッチャマン\": [],\n",
    "    \"Speed Racer\": [\n",
    "        \"SPEED RACER\",\n",
    "        \"スピードレーサー\",\n",
    "        \"スピード レーサー\",\n",
    "    ],\n",
    "    \"うる星やつら\": [\n",
    "        \"うるせえやつら\",\n",
    "    ],\n",
    "    \"ジョジョの奇妙な冒険\": [\n",
    "        \"ジョジョ\",\n",
    "    ],\n",
    "}\n",
    "# コラボブランド対応用\n",
    "other_brand_list = [\n",
    "    \"COMMEdesGARCONS\",\n",
    "    \"コムデギャルソン\",\n",
    "    \"CHROME HEARTS\",\n",
    "    \"クロムハーツ\",\n",
    "    \"Supreme\",\n",
    "    \"シュプリーム\",\n",
    "    \"TMT\",\n",
    "    \"Paul Smith\",\n",
    "    \"glamb\",\n",
    "    \"Adam et Rope\",\n",
    "    \"HYSTERIC GLAMOUR\",\n",
    "    \"XXX\",\n",
    "    \"Sadistic Action\",\n",
    "    \"MINEDENIM\",\n",
    "    \"クリスチャンディオール\",\n",
    "    \"HALFMAN\",\n",
    "]\n",
    "\n",
    "\n",
    "# 関数を定義してアニメ名を含むレコードを検出\n",
    "def is_valid_record(anime_name, product_name, anime_aliases):\n",
    "    if anime_name not in anime_aliases:\n",
    "        return False\n",
    "    aliases = [anime_name] + anime_aliases[anime_name]\n",
    "    pattern = r\"(\" + \"|\".join(re.escape(alias) for alias in aliases) + r\")\"\n",
    "\n",
    "    # Check if product_name contains any of the other brands\n",
    "    other_brand_pattern = (\n",
    "        r\"(\" + \"|\".join(re.escape(brand) for brand in other_brand_list) + r\")\"\n",
    "    )\n",
    "    if re.search(other_brand_pattern, product_name, re.IGNORECASE):\n",
    "        return False\n",
    "\n",
    "    return bool(re.search(pattern, product_name, re.IGNORECASE))\n",
    "\n",
    "\n",
    "# 不正なレコードの検出\n",
    "df_main_all[\"is_valid\"] = df_main_all.apply(\n",
    "    lambda row: is_valid_record(row[\"anime_name\"], row[\"name\"], anime_aliases),\n",
    "    axis=1,\n",
    ")\n",
    "invalid_records = df_main_all[~df_main_all[\"is_valid\"]]\n",
    "valid_records = df_main_all[df_main_all[\"is_valid\"]]"
   ]
  },
  {
   "cell_type": "code",
   "execution_count": 12,
   "id": "b82dcb1d-8058-4b59-b1eb-27aea12975f8",
   "metadata": {},
   "outputs": [],
   "source": [
    "# # TODO:アーティスト単体\n",
    "# df_kurt_cobain = valid_records[valid_records[\"anime_name\"] == \"カートコバーン\"].copy()\n",
    "# df_not_kurt_cobain = valid_records[\n",
    "#     valid_records[\"anime_name\"] != \"カートコバーン\"\n",
    "# ].copy()\n",
    "# df_kurt_cobain[\"anime_name\"] = \"ニルヴァーナ\"\n",
    "# valid_records_after = pd.concat([df_not_kurt_cobain, df_kurt_cobain], ignore_index=True)"
   ]
  },
  {
   "cell_type": "code",
   "execution_count": 31,
   "id": "a3a79359-698f-49fa-85fa-a551062d54be",
   "metadata": {},
   "outputs": [],
   "source": [
    "patterns = [\n",
    "    r\"DEADSTOCK\",\n",
    "    r\"deadstock\",\n",
    "    r\"デッドストック\",\n",
    "    r\"ヴィンテージ\",\n",
    "    r\"vintage\",\n",
    "    r\"VINTAGE\",\n",
    "    r\"\\b\\d{2}s\",\n",
    "    r\"\\b\\d{2}S\",\n",
    "    r\"\\b\\d{2}'s\",\n",
    "    r\"\\b\\d{2}'S\",\n",
    "    r\"\\b\\d{2}年\",\n",
    "    r\"\\b19\\d{2}\",\n",
    "]\n",
    "\n",
    "# パターンを組み合わせて1つの正規表現パターンを作成\n",
    "combined_pattern = r\"(\" + \"|\".join(patterns) + r\")\""
   ]
  },
  {
   "cell_type": "code",
   "execution_count": 33,
   "id": "430b2454-021e-45d3-813a-95e2f293bbea",
   "metadata": {},
   "outputs": [],
   "source": [
    "# df_last = valid_records_after[\n",
    "#     [\n",
    "#         bool(re.search(combined_pattern, item, re.IGNORECASE))\n",
    "#         for item in valid_records_after[\"name\"]\n",
    "#     ]\n",
    "# ]\n",
    "\n",
    "df_last = valid_records[\n",
    "    [\n",
    "        bool(re.search(combined_pattern, item, re.IGNORECASE))\n",
    "        for item in valid_records[\"name\"]\n",
    "    ]\n",
    "]"
   ]
  },
  {
   "cell_type": "code",
   "execution_count": 36,
   "id": "14899c94-a1b4-4564-b023-456101ad6725",
   "metadata": {},
   "outputs": [],
   "source": [
    "# s = df_last.groupby(\"anime_name\").nunique()[\"name\"]\n",
    "# df_product_num_per_anime_name = s.reset_index()\n",
    "# sample_size = 30\n",
    "# anime_list_over_sample_size = df_product_num_per_anime_name[\n",
    "#     df_product_num_per_anime_name[\"name\"] > sample_size\n",
    "# ][\"anime_name\"].tolist()\n",
    "# print(\"十分なサンプルサイズを持つアニメ名\", anime_list_over_sample_size)"
   ]
  },
  {
   "cell_type": "code",
   "execution_count": 37,
   "id": "fe8320fd-b906-4f96-8c80-8021156f5974",
   "metadata": {
    "scrolled": true
   },
   "outputs": [],
   "source": [
    "# df_last = df_last[df_last[\"anime_name\"].isin(anime_list_over_sample_size)].reset_index(\n",
    "#     drop=True\n",
    "# )"
   ]
  },
  {
   "cell_type": "code",
   "execution_count": 38,
   "id": "6a5bc172-5c09-49d0-9f95-c125487313dd",
   "metadata": {},
   "outputs": [
    {
     "name": "stdout",
     "output_type": "stream",
     "text": [
      "199のレコードが削減されました。\n"
     ]
    }
   ],
   "source": [
    "print(f\"{df_main_all.shape[0] - df_last.shape[0]}のレコードが削減されました。\")"
   ]
  },
  {
   "cell_type": "code",
   "execution_count": 45,
   "id": "7e3ed283-dd7e-4508-b340-a3bf247bb798",
   "metadata": {},
   "outputs": [],
   "source": [
    "df_last.to_csv(\"../data/output/rakuten_animeTshirts_prices/output_2.csv\", index=False)"
   ]
  },
  {
   "cell_type": "code",
   "execution_count": 46,
   "id": "fc9db010-1eb5-4bf2-9582-941e0ba42998",
   "metadata": {},
   "outputs": [],
   "source": [
    "df_last = pd.read_csv(\"../data/output/rakuten_animeTshirts_prices/output_2.csv\")"
   ]
  },
  {
   "cell_type": "code",
   "execution_count": 47,
   "id": "a409dd6a-e904-43b3-a4c2-ab4a09d4f1a4",
   "metadata": {
    "scrolled": true
   },
   "outputs": [
    {
     "data": {
      "text/html": [
       "<div>\n",
       "<style scoped>\n",
       "    .dataframe tbody tr th:only-of-type {\n",
       "        vertical-align: middle;\n",
       "    }\n",
       "\n",
       "    .dataframe tbody tr th {\n",
       "        vertical-align: top;\n",
       "    }\n",
       "\n",
       "    .dataframe thead th {\n",
       "        text-align: right;\n",
       "    }\n",
       "</style>\n",
       "<table border=\"1\" class=\"dataframe\">\n",
       "  <thead>\n",
       "    <tr style=\"text-align: right;\">\n",
       "      <th></th>\n",
       "      <th>name</th>\n",
       "      <th>price</th>\n",
       "      <th>url</th>\n",
       "      <th>anime_name</th>\n",
       "      <th>is_valid</th>\n",
       "    </tr>\n",
       "  </thead>\n",
       "  <tbody>\n",
       "    <tr>\n",
       "      <th>0</th>\n",
       "      <td>90's AKIRA Full Print 1993 Rare Design S/S Tee...</td>\n",
       "      <td>550000</td>\n",
       "      <td>https://hb.afl.rakuten.co.jp/hgc/g00sltre.brn1...</td>\n",
       "      <td>AKIRA</td>\n",
       "      <td>True</td>\n",
       "    </tr>\n",
       "    <tr>\n",
       "      <th>1</th>\n",
       "      <td>VINTAGE(ヴィンテージ) 90s AKIRA T-shirt ヴィンテージ 鉄雄 グリ...</td>\n",
       "      <td>240900</td>\n",
       "      <td>https://hb.afl.rakuten.co.jp/hgc/g00s6rie.brn1...</td>\n",
       "      <td>AKIRA</td>\n",
       "      <td>True</td>\n",
       "    </tr>\n",
       "    <tr>\n",
       "      <th>2</th>\n",
       "      <td>【中古】ヴィンテージ VINTAGE 80s～90s AKIRA KANEDA EXPLOD...</td>\n",
       "      <td>210000</td>\n",
       "      <td>https://hb.afl.rakuten.co.jp/hgc/g00rwi1e.brn1...</td>\n",
       "      <td>AKIRA</td>\n",
       "      <td>True</td>\n",
       "    </tr>\n",
       "    <tr>\n",
       "      <th>3</th>\n",
       "      <td>ヴィンテージ VINTAGE　サイズ:L AKIRA アキラ 金田vsジョーカープリントTシ...</td>\n",
       "      <td>206910</td>\n",
       "      <td>https://hb.afl.rakuten.co.jp/hgc/g00qmcve.brn1...</td>\n",
       "      <td>AKIRA</td>\n",
       "      <td>True</td>\n",
       "    </tr>\n",
       "    <tr>\n",
       "      <th>4</th>\n",
       "      <td>ヴィンテージ VINTAGE　サイズ:L AKIRA アキラ Neo-TokyoプリントTシ...</td>\n",
       "      <td>179322</td>\n",
       "      <td>https://hb.afl.rakuten.co.jp/hgc/g00qmcve.brn1...</td>\n",
       "      <td>AKIRA</td>\n",
       "      <td>True</td>\n",
       "    </tr>\n",
       "    <tr>\n",
       "      <th>5</th>\n",
       "      <td>ヴィンテージ VINTAGE　サイズ:L AKIRA アキラ バイクプリントTシャツ(ホワイ...</td>\n",
       "      <td>165528</td>\n",
       "      <td>https://hb.afl.rakuten.co.jp/hgc/g00qmcve.brn1...</td>\n",
       "      <td>AKIRA</td>\n",
       "      <td>True</td>\n",
       "    </tr>\n",
       "    <tr>\n",
       "      <th>6</th>\n",
       "      <td>【中古】ヴィンテージ VINTAGE ITEM FRUIT OF THE LOOM 90's...</td>\n",
       "      <td>154000</td>\n",
       "      <td>https://hb.afl.rakuten.co.jp/hgc/g00tpkue.brn1...</td>\n",
       "      <td>AKIRA</td>\n",
       "      <td>True</td>\n",
       "    </tr>\n",
       "    <tr>\n",
       "      <th>7</th>\n",
       "      <td>FASHION VICTIM　Tシャツ　80's vintage　AKIRA　(C)1988...</td>\n",
       "      <td>140800</td>\n",
       "      <td>https://hb.afl.rakuten.co.jp/hgc/g00u9rpe.brn1...</td>\n",
       "      <td>AKIRA</td>\n",
       "      <td>True</td>\n",
       "    </tr>\n",
       "    <tr>\n",
       "      <th>8</th>\n",
       "      <td>FASHION VICTIM　Tシャツ　80's vintage　半袖　カットソー　トップス...</td>\n",
       "      <td>107800</td>\n",
       "      <td>https://hb.afl.rakuten.co.jp/hgc/g00u9rpe.brn1...</td>\n",
       "      <td>AKIRA</td>\n",
       "      <td>True</td>\n",
       "    </tr>\n",
       "    <tr>\n",
       "      <th>9</th>\n",
       "      <td>VINTAGE(ヴィンテージ) サイズ:M 80s～90s VINTAGE AKIRA 19...</td>\n",
       "      <td>97020</td>\n",
       "      <td>https://hb.afl.rakuten.co.jp/hgc/g00s6rie.brn1...</td>\n",
       "      <td>AKIRA</td>\n",
       "      <td>True</td>\n",
       "    </tr>\n",
       "    <tr>\n",
       "      <th>10</th>\n",
       "      <td>SAINT MICHAEL セントマイケル 【×フリーダム】24SS ダメージ加工 FD S...</td>\n",
       "      <td>43890</td>\n",
       "      <td>https://hb.afl.rakuten.co.jp/hgc/g00s68be.brn1...</td>\n",
       "      <td>AKIRA</td>\n",
       "      <td>True</td>\n",
       "    </tr>\n",
       "    <tr>\n",
       "      <th>11</th>\n",
       "      <td>セントマイケル SAINT MICHAEL　×アキラ AKILA サイズ:XL 24SS S...</td>\n",
       "      <td>35695</td>\n",
       "      <td>https://hb.afl.rakuten.co.jp/hgc/g00qmcve.brn1...</td>\n",
       "      <td>AKIRA</td>\n",
       "      <td>True</td>\n",
       "    </tr>\n",
       "    <tr>\n",
       "      <th>12</th>\n",
       "      <td>【中古】FRUIT OF THE LOOM◆90s/AKIRA/Tシャツ/L/コットン/BL...</td>\n",
       "      <td>27390</td>\n",
       "      <td>https://hb.afl.rakuten.co.jp/hgc/g00r3cee.brn1...</td>\n",
       "      <td>AKIRA</td>\n",
       "      <td>True</td>\n",
       "    </tr>\n",
       "    <tr>\n",
       "      <th>13</th>\n",
       "      <td>【中古】 アキラナカ AKIRANAKA ブラウス カットソー 長袖 ビッグシルエット 36...</td>\n",
       "      <td>15400</td>\n",
       "      <td>https://hb.afl.rakuten.co.jp/hgc/g00qosae.brn1...</td>\n",
       "      <td>AKIRA</td>\n",
       "      <td>True</td>\n",
       "    </tr>\n",
       "    <tr>\n",
       "      <th>14</th>\n",
       "      <td>古着 00'S 犬夜叉 キャラクタープリントTシャツ メンズL /evb002126 【中古...</td>\n",
       "      <td>33000</td>\n",
       "      <td>https://hb.afl.rakuten.co.jp/hgc/g00qhzfe.brn1...</td>\n",
       "      <td>犬夜叉</td>\n",
       "      <td>True</td>\n",
       "    </tr>\n",
       "    <tr>\n",
       "      <th>15</th>\n",
       "      <td>古着 90'S Murina DRAGONBALL Z ドラゴンボールZ 両面プリント キャ...</td>\n",
       "      <td>15950</td>\n",
       "      <td>https://hb.afl.rakuten.co.jp/hgc/g00qhzfe.brn1...</td>\n",
       "      <td>ドラゴンボールZ</td>\n",
       "      <td>True</td>\n",
       "    </tr>\n",
       "    <tr>\n",
       "      <th>16</th>\n",
       "      <td>【中古】00年代Tシャツ/--/コットン/GRY/ドラゴンボールZ/SSJ孫悟空【メンズウェア】</td>\n",
       "      <td>14190</td>\n",
       "      <td>https://hb.afl.rakuten.co.jp/hgc/g00r3cee.brn1...</td>\n",
       "      <td>ドラゴンボールZ</td>\n",
       "      <td>True</td>\n",
       "    </tr>\n",
       "    <tr>\n",
       "      <th>17</th>\n",
       "      <td>XZ158 00s ナルト NARUTO アニメ Tシャツ 全員集合 黒 L</td>\n",
       "      <td>33800</td>\n",
       "      <td>https://hb.afl.rakuten.co.jp/hgc/g00srike.brn1...</td>\n",
       "      <td>NARUTO</td>\n",
       "      <td>True</td>\n",
       "    </tr>\n",
       "    <tr>\n",
       "      <th>18</th>\n",
       "      <td>【中古】00s/デッドストック/コピーライト2002/NARUTO/Tシャツ/S/コットン/...</td>\n",
       "      <td>25190</td>\n",
       "      <td>https://hb.afl.rakuten.co.jp/hgc/g00r3cee.brn1...</td>\n",
       "      <td>NARUTO</td>\n",
       "      <td>True</td>\n",
       "    </tr>\n",
       "    <tr>\n",
       "      <th>19</th>\n",
       "      <td>XZ115 00s ナルト NARUTO アニメ Tシャツ 古着 全員集合 黒T</td>\n",
       "      <td>24800</td>\n",
       "      <td>https://hb.afl.rakuten.co.jp/hgc/g00srike.brn1...</td>\n",
       "      <td>NARUTO</td>\n",
       "      <td>True</td>\n",
       "    </tr>\n",
       "    <tr>\n",
       "      <th>20</th>\n",
       "      <td>XZ165 00s ナルト NARUTO アニメ Tシャツ 全員集合 黒 S</td>\n",
       "      <td>23800</td>\n",
       "      <td>https://hb.afl.rakuten.co.jp/hgc/g00srike.brn1...</td>\n",
       "      <td>NARUTO</td>\n",
       "      <td>True</td>\n",
       "    </tr>\n",
       "    <tr>\n",
       "      <th>21</th>\n",
       "      <td>00年代 NARUTO SHIPPUDEN ナルト疾風伝 カカシ 半袖Tシャツ 大きいサイズ...</td>\n",
       "      <td>15500</td>\n",
       "      <td>https://hb.afl.rakuten.co.jp/hgc/g00s20ye.brn1...</td>\n",
       "      <td>NARUTO</td>\n",
       "      <td>True</td>\n",
       "    </tr>\n",
       "    <tr>\n",
       "      <th>22</th>\n",
       "      <td>新品 アメリカ正規品 NARUTO うずまきナルト 半袖 Tシャツ 白 XL アニメT VI...</td>\n",
       "      <td>10965</td>\n",
       "      <td>https://hb.afl.rakuten.co.jp/hgc/g00r8nne.brn1...</td>\n",
       "      <td>NARUTO</td>\n",
       "      <td>True</td>\n",
       "    </tr>\n",
       "    <tr>\n",
       "      <th>23</th>\n",
       "      <td>新品 アメリカ正規品 NARUTO ナルト 999 半袖 Tシャツ 白 XL アニメT VI...</td>\n",
       "      <td>10965</td>\n",
       "      <td>https://hb.afl.rakuten.co.jp/hgc/g00r8nne.brn1...</td>\n",
       "      <td>NARUTO</td>\n",
       "      <td>True</td>\n",
       "    </tr>\n",
       "    <tr>\n",
       "      <th>24</th>\n",
       "      <td>90s スラムダンク SLAM DUNK 湘北 流川楓 プリント 半袖Tシャツ 古着 ★ メ...</td>\n",
       "      <td>18800</td>\n",
       "      <td>https://hb.afl.rakuten.co.jp/hgc/g00rgike.brn1...</td>\n",
       "      <td>SLAM DUNK</td>\n",
       "      <td>True</td>\n",
       "    </tr>\n",
       "    <tr>\n",
       "      <th>25</th>\n",
       "      <td>【中古】ヴィンテージ VINTAGE 90s 1993 マッハ GOGOGO SPEED R...</td>\n",
       "      <td>32900</td>\n",
       "      <td>https://hb.afl.rakuten.co.jp/hgc/g00rwi1e.brn1...</td>\n",
       "      <td>Speed Racer</td>\n",
       "      <td>True</td>\n",
       "    </tr>\n",
       "    <tr>\n",
       "      <th>26</th>\n",
       "      <td>VINTAGE 90’S SPEED RACER GO TEE</td>\n",
       "      <td>27500</td>\n",
       "      <td>https://hb.afl.rakuten.co.jp/hgc/g00tn0te.brn1...</td>\n",
       "      <td>Speed Racer</td>\n",
       "      <td>True</td>\n",
       "    </tr>\n",
       "    <tr>\n",
       "      <th>27</th>\n",
       "      <td>【中古】ANVIL◆90s/SPEED RACER/マルチプリント/Tシャツ/XL/コットン...</td>\n",
       "      <td>27390</td>\n",
       "      <td>https://hb.afl.rakuten.co.jp/hgc/g00r3cee.brn1...</td>\n",
       "      <td>Speed Racer</td>\n",
       "      <td>True</td>\n",
       "    </tr>\n",
       "    <tr>\n",
       "      <th>28</th>\n",
       "      <td>【雰囲気抜群/90s】SPEED RACER 【マッハGOGOGO】L Tシャツ USA製 ...</td>\n",
       "      <td>25300</td>\n",
       "      <td>https://hb.afl.rakuten.co.jp/hgc/g00snhce.brn1...</td>\n",
       "      <td>Speed Racer</td>\n",
       "      <td>True</td>\n",
       "    </tr>\n",
       "    <tr>\n",
       "      <th>29</th>\n",
       "      <td>【中古】【メンズ】UNKNOWN 90's 古着 SPEED RACER マッハGOGOGO...</td>\n",
       "      <td>14701</td>\n",
       "      <td>https://hb.afl.rakuten.co.jp/hgc/g00sqgse.brn1...</td>\n",
       "      <td>Speed Racer</td>\n",
       "      <td>True</td>\n",
       "    </tr>\n",
       "    <tr>\n",
       "      <th>30</th>\n",
       "      <td>古着 00'S TNT SPEED RACER スピードレーサー リンガーT キャラクタープ...</td>\n",
       "      <td>11990</td>\n",
       "      <td>https://hb.afl.rakuten.co.jp/hgc/g00qhzfe.brn1...</td>\n",
       "      <td>Speed Racer</td>\n",
       "      <td>True</td>\n",
       "    </tr>\n",
       "  </tbody>\n",
       "</table>\n",
       "</div>"
      ],
      "text/plain": [
       "                                                 name   price  \\\n",
       "0   90's AKIRA Full Print 1993 Rare Design S/S Tee...  550000   \n",
       "1   VINTAGE(ヴィンテージ) 90s AKIRA T-shirt ヴィンテージ 鉄雄 グリ...  240900   \n",
       "2   【中古】ヴィンテージ VINTAGE 80s～90s AKIRA KANEDA EXPLOD...  210000   \n",
       "3   ヴィンテージ VINTAGE　サイズ:L AKIRA アキラ 金田vsジョーカープリントTシ...  206910   \n",
       "4   ヴィンテージ VINTAGE　サイズ:L AKIRA アキラ Neo-TokyoプリントTシ...  179322   \n",
       "5   ヴィンテージ VINTAGE　サイズ:L AKIRA アキラ バイクプリントTシャツ(ホワイ...  165528   \n",
       "6   【中古】ヴィンテージ VINTAGE ITEM FRUIT OF THE LOOM 90's...  154000   \n",
       "7   FASHION VICTIM　Tシャツ　80's vintage　AKIRA　(C)1988...  140800   \n",
       "8   FASHION VICTIM　Tシャツ　80's vintage　半袖　カットソー　トップス...  107800   \n",
       "9   VINTAGE(ヴィンテージ) サイズ:M 80s～90s VINTAGE AKIRA 19...   97020   \n",
       "10  SAINT MICHAEL セントマイケル 【×フリーダム】24SS ダメージ加工 FD S...   43890   \n",
       "11  セントマイケル SAINT MICHAEL　×アキラ AKILA サイズ:XL 24SS S...   35695   \n",
       "12  【中古】FRUIT OF THE LOOM◆90s/AKIRA/Tシャツ/L/コットン/BL...   27390   \n",
       "13  【中古】 アキラナカ AKIRANAKA ブラウス カットソー 長袖 ビッグシルエット 36...   15400   \n",
       "14  古着 00'S 犬夜叉 キャラクタープリントTシャツ メンズL /evb002126 【中古...   33000   \n",
       "15  古着 90'S Murina DRAGONBALL Z ドラゴンボールZ 両面プリント キャ...   15950   \n",
       "16   【中古】00年代Tシャツ/--/コットン/GRY/ドラゴンボールZ/SSJ孫悟空【メンズウェア】   14190   \n",
       "17             XZ158 00s ナルト NARUTO アニメ Tシャツ 全員集合 黒 L   33800   \n",
       "18  【中古】00s/デッドストック/コピーライト2002/NARUTO/Tシャツ/S/コットン/...   25190   \n",
       "19           XZ115 00s ナルト NARUTO アニメ Tシャツ 古着 全員集合 黒T   24800   \n",
       "20             XZ165 00s ナルト NARUTO アニメ Tシャツ 全員集合 黒 S   23800   \n",
       "21  00年代 NARUTO SHIPPUDEN ナルト疾風伝 カカシ 半袖Tシャツ 大きいサイズ...   15500   \n",
       "22  新品 アメリカ正規品 NARUTO うずまきナルト 半袖 Tシャツ 白 XL アニメT VI...   10965   \n",
       "23  新品 アメリカ正規品 NARUTO ナルト 999 半袖 Tシャツ 白 XL アニメT VI...   10965   \n",
       "24  90s スラムダンク SLAM DUNK 湘北 流川楓 プリント 半袖Tシャツ 古着 ★ メ...   18800   \n",
       "25  【中古】ヴィンテージ VINTAGE 90s 1993 マッハ GOGOGO SPEED R...   32900   \n",
       "26                    VINTAGE 90’S SPEED RACER GO TEE   27500   \n",
       "27  【中古】ANVIL◆90s/SPEED RACER/マルチプリント/Tシャツ/XL/コットン...   27390   \n",
       "28  【雰囲気抜群/90s】SPEED RACER 【マッハGOGOGO】L Tシャツ USA製 ...   25300   \n",
       "29  【中古】【メンズ】UNKNOWN 90's 古着 SPEED RACER マッハGOGOGO...   14701   \n",
       "30  古着 00'S TNT SPEED RACER スピードレーサー リンガーT キャラクタープ...   11990   \n",
       "\n",
       "                                                  url   anime_name  is_valid  \n",
       "0   https://hb.afl.rakuten.co.jp/hgc/g00sltre.brn1...        AKIRA      True  \n",
       "1   https://hb.afl.rakuten.co.jp/hgc/g00s6rie.brn1...        AKIRA      True  \n",
       "2   https://hb.afl.rakuten.co.jp/hgc/g00rwi1e.brn1...        AKIRA      True  \n",
       "3   https://hb.afl.rakuten.co.jp/hgc/g00qmcve.brn1...        AKIRA      True  \n",
       "4   https://hb.afl.rakuten.co.jp/hgc/g00qmcve.brn1...        AKIRA      True  \n",
       "5   https://hb.afl.rakuten.co.jp/hgc/g00qmcve.brn1...        AKIRA      True  \n",
       "6   https://hb.afl.rakuten.co.jp/hgc/g00tpkue.brn1...        AKIRA      True  \n",
       "7   https://hb.afl.rakuten.co.jp/hgc/g00u9rpe.brn1...        AKIRA      True  \n",
       "8   https://hb.afl.rakuten.co.jp/hgc/g00u9rpe.brn1...        AKIRA      True  \n",
       "9   https://hb.afl.rakuten.co.jp/hgc/g00s6rie.brn1...        AKIRA      True  \n",
       "10  https://hb.afl.rakuten.co.jp/hgc/g00s68be.brn1...        AKIRA      True  \n",
       "11  https://hb.afl.rakuten.co.jp/hgc/g00qmcve.brn1...        AKIRA      True  \n",
       "12  https://hb.afl.rakuten.co.jp/hgc/g00r3cee.brn1...        AKIRA      True  \n",
       "13  https://hb.afl.rakuten.co.jp/hgc/g00qosae.brn1...        AKIRA      True  \n",
       "14  https://hb.afl.rakuten.co.jp/hgc/g00qhzfe.brn1...          犬夜叉      True  \n",
       "15  https://hb.afl.rakuten.co.jp/hgc/g00qhzfe.brn1...     ドラゴンボールZ      True  \n",
       "16  https://hb.afl.rakuten.co.jp/hgc/g00r3cee.brn1...     ドラゴンボールZ      True  \n",
       "17  https://hb.afl.rakuten.co.jp/hgc/g00srike.brn1...       NARUTO      True  \n",
       "18  https://hb.afl.rakuten.co.jp/hgc/g00r3cee.brn1...       NARUTO      True  \n",
       "19  https://hb.afl.rakuten.co.jp/hgc/g00srike.brn1...       NARUTO      True  \n",
       "20  https://hb.afl.rakuten.co.jp/hgc/g00srike.brn1...       NARUTO      True  \n",
       "21  https://hb.afl.rakuten.co.jp/hgc/g00s20ye.brn1...       NARUTO      True  \n",
       "22  https://hb.afl.rakuten.co.jp/hgc/g00r8nne.brn1...       NARUTO      True  \n",
       "23  https://hb.afl.rakuten.co.jp/hgc/g00r8nne.brn1...       NARUTO      True  \n",
       "24  https://hb.afl.rakuten.co.jp/hgc/g00rgike.brn1...    SLAM DUNK      True  \n",
       "25  https://hb.afl.rakuten.co.jp/hgc/g00rwi1e.brn1...  Speed Racer      True  \n",
       "26  https://hb.afl.rakuten.co.jp/hgc/g00tn0te.brn1...  Speed Racer      True  \n",
       "27  https://hb.afl.rakuten.co.jp/hgc/g00r3cee.brn1...  Speed Racer      True  \n",
       "28  https://hb.afl.rakuten.co.jp/hgc/g00snhce.brn1...  Speed Racer      True  \n",
       "29  https://hb.afl.rakuten.co.jp/hgc/g00sqgse.brn1...  Speed Racer      True  \n",
       "30  https://hb.afl.rakuten.co.jp/hgc/g00qhzfe.brn1...  Speed Racer      True  "
      ]
     },
     "execution_count": 47,
     "metadata": {},
     "output_type": "execute_result"
    }
   ],
   "source": [
    "df_last"
   ]
  },
  {
   "cell_type": "code",
   "execution_count": null,
   "id": "9f18d4bd-44e7-409f-abe9-370e681dc282",
   "metadata": {},
   "outputs": [],
   "source": []
  },
  {
   "cell_type": "markdown",
   "id": "84113b17-3329-4c1c-aa91-da153462c5c4",
   "metadata": {},
   "source": [
    "# 価格集計"
   ]
  },
  {
   "cell_type": "code",
   "execution_count": 22,
   "id": "e45fd5a3-f777-40f8-9b6f-a110b1d65436",
   "metadata": {},
   "outputs": [
    {
     "name": "stdout",
     "output_type": "stream",
     "text": [
      "バンド別商品数: band_name\n",
      "ニルヴァーナ        51400.0\n",
      "PINK FLOYD    31735.0\n",
      "METALLICA     24775.0\n",
      "ローリングストーンズ    19150.0\n",
      "KISS          17600.0\n",
      "Name: price, dtype: float64\n"
     ]
    }
   ],
   "source": [
    "s = df_last.groupby(\"anime_name\")[\"price\"].median()\n",
    "print(\n",
    "    \"アニメ別商品数:\",\n",
    "    s.sort_values(ascending=False),\n",
    ")"
   ]
  },
  {
   "cell_type": "code",
   "execution_count": 23,
   "id": "185e6048-03e3-4609-ae03-beab3f805204",
   "metadata": {},
   "outputs": [
    {
     "name": "stdout",
     "output_type": "stream",
     "text": [
      "ローリングストーンズ：商品数：94\n"
     ]
    },
    {
     "data": {
      "image/png": "[encoded data removed]",
      "text/plain": [
       "<Figure size 1000x600 with 1 Axes>"
      ]
     },
     "metadata": {},
     "output_type": "display_data"
    },
    {
     "name": "stdout",
     "output_type": "stream",
     "text": [
      "METALLICA：商品数：86\n"
     ]
    },
    {
     "data": {
      "image/png": "[encoded data removed]",
      "text/plain": [
       "<Figure size 1000x600 with 1 Axes>"
      ]
     },
     "metadata": {},
     "output_type": "display_data"
    },
    {
     "name": "stdout",
     "output_type": "stream",
     "text": [
      "KISS：商品数：43\n"
     ]
    },
    {
     "data": {
      "image/png": "[encoded data removed]",
      "text/plain": [
       "<Figure size 1000x600 with 1 Axes>"
      ]
     },
     "metadata": {},
     "output_type": "display_data"
    },
    {
     "name": "stdout",
     "output_type": "stream",
     "text": [
      "ニルヴァーナ：商品数：77\n"
     ]
    },
    {
     "data": {
      "image/png": "[encoded data removed]",
      "text/plain": [
       "<Figure size 1000x600 with 1 Axes>"
      ]
     },
     "metadata": {},
     "output_type": "display_data"
    },
    {
     "name": "stdout",
     "output_type": "stream",
     "text": [
      "PINK FLOYD：商品数：54\n"
     ]
    },
    {
     "data": {
      "image/png": "[encoded data removed]",
      "text/plain": [
       "<Figure size 1000x600 with 1 Axes>"
      ]
     },
     "metadata": {},
     "output_type": "display_data"
    }
   ],
   "source": [
    "# アニメごとに価格帯の分布をプロット\n",
    "animes = df_last[\"anime_name\"].unique()\n",
    "with warnings.catch_warnings():\n",
    "    warnings.simplefilter(\"ignore\", UserWarning)\n",
    "    for anime in animes:\n",
    "        print(\n",
    "            f\"{anime}：商品数：{df_last[df_last['anime_name'] == anime]['name'].nunique()}\"\n",
    "        )\n",
    "        anime_data = df_last[df_last[\"anime_name\"] == anime]\n",
    "        plt.figure(figsize=(10, 6))\n",
    "        plt.hist(anime_data[\"price\"], bins=20, edgecolor=\"black\")\n",
    "        plt.grid(True)\n",
    "        plt.show()"
   ]
  },
  {
   "cell_type": "code",
   "execution_count": 24,
   "id": "aefab7f9-3e0a-46ec-b52a-8252b936211a",
   "metadata": {},
   "outputs": [
    {
     "name": "stdout",
     "output_type": "stream",
     "text": [
      "バンド別平均価格: band_name\n",
      "ニルヴァーナ        100245.395833\n",
      "METALLICA      37161.184783\n",
      "PINK FLOYD     34771.833333\n",
      "ローリングストーンズ     24717.831579\n",
      "KISS           21673.790698\n",
      "Name: price, dtype: float64\n"
     ]
    }
   ],
   "source": [
    "print(\n",
    "    \"アニメ別平均価格:\",\n",
    "    df_last.groupby(\"anime_name\")[\"price\"].mean().sort_values(ascending=False),\n",
    ")"
   ]
  }
 ],
 "metadata": {
  "kernelspec": {
   "display_name": "Python 3 (ipykernel)",
   "language": "python",
   "name": "python3"
  },
  "language_info": {
   "codemirror_mode": {
    "name": "ipython",
    "version": 3
   },
   "file_extension": ".py",
   "mimetype": "text/x-python",
   "name": "python",
   "nbconvert_exporter": "python",
   "pygments_lexer": "ipython3",
   "version": "3.9.16"
  }
 },
 "nbformat": 4,
 "nbformat_minor": 5
}
