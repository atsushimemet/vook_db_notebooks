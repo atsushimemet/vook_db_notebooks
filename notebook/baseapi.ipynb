{
 "cells": [
  {
   "cell_type": "code",
   "execution_count": 2,
   "id": "8bb41162-4470-4da2-bd77-de07b0268405",
   "metadata": {},
   "outputs": [
    {
     "name": "stdout",
     "output_type": "stream",
     "text": [
      "Now: Local env\n"
     ]
    }
   ],
   "source": [
    "import sys\n",
    "\n",
    "import requests\n",
    "from requests.auth import HTTPBasicAuth\n",
    "\n",
    "sys.path.append(\"../\")\n",
    "from vook_db_lambda.local_config import BASE_CLIENT_ID, BASE_CLIENT_SECRET"
   ]
  },
  {
   "cell_type": "code",
   "execution_count": 3,
   "id": "f30a16d8-a99d-4b3f-ba0f-1a9f06fe93fa",
   "metadata": {},
   "outputs": [],
   "source": [
    "# OAuth2.0のクライアントIDとクライアントシークレットを設定\n",
    "client_id = BASE_CLIENT_ID\n",
    "client_secret = BASE_CLIENT_SECRET"
   ]
  },
  {
   "cell_type": "code",
   "execution_count": null,
   "id": "6755504e-1497-4b44-ba03-709bcec582a1",
   "metadata": {},
   "outputs": [],
   "source": [
    "# 認可コードの取得\n",
    "requests.get(\n",
    "    f\"https://api.thebase.in/1/oauth/authorize?response_type=code&client_id={BASE_CLIENT_ID}&redirect_uri=http%3A%2F%2Fexample.com%2Fcallback.php&scope=read_users%20read_orders&state=hogehoge\",\n",
    ")"
   ]
  },
  {
   "cell_type": "code",
   "execution_count": 4,
   "id": "bf5325db-4509-4f16-adce-2d1d7c38dfe7",
   "metadata": {},
   "outputs": [],
   "source": [
    "# アクセストークンを取得するためのエンドポイントとリクエストデータ\n",
    "token_url = \"https://api.thebase.in/1/oauth/token\"\n",
    "token_data = {\"grant_type\": \"client_credentials\"}"
   ]
  },
  {
   "cell_type": "code",
   "execution_count": 5,
   "id": "3d71014c-864b-4778-a79c-a88f4fddf25b",
   "metadata": {},
   "outputs": [
    {
     "ename": "KeyError",
     "evalue": "'access_token'",
     "output_type": "error",
     "traceback": [
      "\u001b[0;31m---------------------------------------------------------------------------\u001b[0m",
      "\u001b[0;31mKeyError\u001b[0m                                  Traceback (most recent call last)",
      "Cell \u001b[0;32mIn[5], line 6\u001b[0m\n\u001b[1;32m      2\u001b[0m response \u001b[38;5;241m=\u001b[39m requests\u001b[38;5;241m.\u001b[39mpost(\n\u001b[1;32m      3\u001b[0m     token_url, data\u001b[38;5;241m=\u001b[39mtoken_data, auth\u001b[38;5;241m=\u001b[39mHTTPBasicAuth(client_id, client_secret)\n\u001b[1;32m      4\u001b[0m )\n\u001b[1;32m      5\u001b[0m response_data \u001b[38;5;241m=\u001b[39m response\u001b[38;5;241m.\u001b[39mjson()\n\u001b[0;32m----> 6\u001b[0m access_token \u001b[38;5;241m=\u001b[39m \u001b[43mresponse_data\u001b[49m\u001b[43m[\u001b[49m\u001b[38;5;124;43m\"\u001b[39;49m\u001b[38;5;124;43maccess_token\u001b[39;49m\u001b[38;5;124;43m\"\u001b[39;49m\u001b[43m]\u001b[49m\n",
      "\u001b[0;31mKeyError\u001b[0m: 'access_token'"
     ]
    }
   ],
   "source": [
    "# アクセストークンを取得\n",
    "response = requests.post(\n",
    "    token_url, data=token_data, auth=HTTPBasicAuth(client_id, client_secret)\n",
    ")\n",
    "response_data = response.json()\n",
    "access_token = response_data[\"access_token\"]"
   ]
  },
  {
   "cell_type": "code",
   "execution_count": 6,
   "id": "dafca14a-7141-4e05-92fa-6c2cac30db5c",
   "metadata": {},
   "outputs": [
    {
     "data": {
      "text/plain": [
       "{'error': 'invalid_request', 'error_description': '不正なgrant_typeです。'}"
      ]
     },
     "execution_count": 6,
     "metadata": {},
     "output_type": "execute_result"
    }
   ],
   "source": [
    "response_data"
   ]
  },
  {
   "cell_type": "code",
   "execution_count": null,
   "id": "dc3f8bbf-c68e-4d03-b328-4585ce592365",
   "metadata": {},
   "outputs": [],
   "source": [
    "# 商品情報を取得するためのエンドポイント\n",
    "items_url = \"https://api.thebase.in/1/items\"\n",
    "\n",
    "# クエリパラメータでカテゴリーIDを指定\n",
    "params = {\"category_id\": \"2313355\"}\n",
    "\n",
    "# Authorizationヘッダーにアクセストークンを設定してリクエストを送信\n",
    "headers = {\"Authorization\": f\"Bearer {access_token}\"}\n",
    "\n",
    "# 商品情報を取得\n",
    "response = requests.get(items_url, headers=headers, params=params)\n",
    "items_data = response.json()\n",
    "\n",
    "# 商品情報を表示\n",
    "print(items_data)"
   ]
  }
 ],
 "metadata": {
  "kernelspec": {
   "display_name": "Python 3 (ipykernel)",
   "language": "python",
   "name": "python3"
  },
  "language_info": {
   "codemirror_mode": {
    "name": "ipython",
    "version": 3
   },
   "file_extension": ".py",
   "mimetype": "text/x-python",
   "name": "python",
   "nbconvert_exporter": "python",
   "pygments_lexer": "ipython3",
   "version": "3.9.16"
  }
 },
 "nbformat": 4,
 "nbformat_minor": 5
}
