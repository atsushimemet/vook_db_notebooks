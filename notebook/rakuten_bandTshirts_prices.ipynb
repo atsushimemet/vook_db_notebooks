{
 "cells": [
  {
   "cell_type": "markdown",
   "id": "4d96cbd4-e6db-450f-9b19-ba877360406d",
   "metadata": {},
   "source": [
    "[ref](https://jamtrading.jp/blogs/jam/1024509/)"
   ]
  },
  {
   "cell_type": "markdown",
   "id": "07f64f63-2c6a-4ee7-b0eb-70f2c867c9fe",
   "metadata": {},
   "source": [
    "# Import"
   ]
  },
  {
   "cell_type": "code",
   "execution_count": 18,
   "id": "8417d04c-2aad-4094-a799-28f75a1e6a33",
   "metadata": {},
   "outputs": [],
   "source": [
    "import re\n",
    "import sys\n",
    "\n",
    "sys.path.append(\"../\")\n",
    "import json\n",
    "import warnings\n",
    "from string import Template\n",
    "from time import sleep\n",
    "\n",
    "import matplotlib.pyplot as plt\n",
    "import pandas as pd\n",
    "import requests\n",
    "from tqdm import tqdm\n",
    "\n",
    "from vook_db_lambda.config import MAX_PAGE, REQ_URL, WANT_ITEMS_RAKUTEN, req_params"
   ]
  },
  {
   "cell_type": "code",
   "execution_count": 2,
   "id": "2dc78892-14e8-4e0e-a77b-c5a400406264",
   "metadata": {},
   "outputs": [
    {
     "name": "stdout",
     "output_type": "stream",
     "text": [
      "/Users/ozawaatsushi/.matplotlib/matplotlibrc\n"
     ]
    }
   ],
   "source": [
    "import matplotlib\n",
    "\n",
    "print(matplotlib.matplotlib_fname())"
   ]
  },
  {
   "cell_type": "code",
   "execution_count": 3,
   "id": "fe48e40a-4d5f-40e1-86cb-8b1a425e7413",
   "metadata": {},
   "outputs": [],
   "source": [
    "band_list = [\n",
    "    \"ローリングストーンズ\",\n",
    "    \"ジミヘン\",\n",
    "    \"レッド ツェッペリン\",\n",
    "    \"デヴィッドボウイ\",\n",
    "    \"METALLICA\",\n",
    "    \"Guns N’ Roses\",\n",
    "    \"KISS\",\n",
    "    \"アイアンメイデン\",\n",
    "    \"スレイヤー\",\n",
    "    \"ランシド\",\n",
    "    \"セックスピストルズ\",\n",
    "    \"RAMONES\",\n",
    "    \"ミスフィッツ\",\n",
    "    \"the casualties\",\n",
    "    \"ニルヴァーナ\",\n",
    "    \"カートコバーン\",\n",
    "    \"The velvet underground\",\n",
    "    \"pearl jam\",\n",
    "    \"foo fighters\",\n",
    "    \"スリップノット\",\n",
    "    \"Korn\",\n",
    "    \"Rage Against the Machine\",\n",
    "    \"Linkin Park\",\n",
    "    \"Deftones\",\n",
    "    \"PINK FLOYD\",\n",
    "    \"JOURNEY\",\n",
    "]\n",
    "\n",
    "item = \"Tシャツ\"\n",
    "req_params[\"minPrice\"] = 10000\n",
    "MAX_PAGE = 100\n",
    "not_200_msg = Template(\"ErrorCode -> $res_code\\nError -> $res['error']\\nPage -> $cnt\")\n",
    "not_hit_msg = \"返ってきた商品数の数が0なので、ループ終了\"\n",
    "max_page_msg = \"MAX PAGEに到達したので、ループ終了\""
   ]
  },
  {
   "cell_type": "code",
   "execution_count": 4,
   "id": "e4d74565-5234-43c8-b34b-09f39f4a0a6a",
   "metadata": {},
   "outputs": [],
   "source": [
    "def loop_request(\n",
    "    req_params: dict,\n",
    "    cnt: int,\n",
    "    df: pd.DataFrame,\n",
    "    REQ_URL: str = REQ_URL,\n",
    "    not_200_msg: str = not_200_msg,\n",
    "    not_hit_msg: str = not_hit_msg,\n",
    "    max_page_msg: str = max_page_msg,\n",
    ") -> pd.DataFrame:\n",
    "    while True:\n",
    "        req_params[\"page\"] = cnt\n",
    "        res = requests.get(REQ_URL, req_params)\n",
    "        res_code = res.status_code\n",
    "        res = json.loads(res.text)\n",
    "        d_template = {\"res_code\": res_code, \"res\": res, \"cnt\": cnt}\n",
    "        if res_code != 200:\n",
    "            print(not_200_msg.safe_substitute(d_template))\n",
    "            break\n",
    "        else:\n",
    "            if res[\"hits\"] == 0:\n",
    "                print(not_hit_msg)\n",
    "                break\n",
    "            tmp_df = pd.DataFrame(res[\"Items\"])[WANT_ITEMS_RAKUTEN]\n",
    "            df = pd.concat([df, tmp_df], ignore_index=True)\n",
    "        if cnt == MAX_PAGE:\n",
    "            print(max_page_msg)\n",
    "            break\n",
    "        cnt += 1\n",
    "        # リクエスト制限回避\n",
    "        sleep(1)\n",
    "    return df"
   ]
  },
  {
   "cell_type": "code",
   "execution_count": 5,
   "id": "dde67dc7-965f-40b8-816b-c27a0fb6547b",
   "metadata": {
    "scrolled": true
   },
   "outputs": [
    {
     "name": "stderr",
     "output_type": "stream",
     "text": [
      "  0%|                                                                                                                             | 0/26 [00:00<?, ?it/s]"
     ]
    },
    {
     "name": "stdout",
     "output_type": "stream",
     "text": [
      "1:settings\n",
      "keyword:Tシャツ ローリングストーンズ\n",
      "2:loop request\n"
     ]
    },
    {
     "name": "stderr",
     "output_type": "stream",
     "text": [
      "  4%|████▌                                                                                                                | 1/26 [00:08<03:25,  8.20s/it]"
     ]
    },
    {
     "name": "stdout",
     "output_type": "stream",
     "text": [
      "返ってきた商品数の数が0なので、ループ終了\n",
      "3:postprocess\n",
      "1:settings\n",
      "keyword:Tシャツ ジミヘン\n",
      "2:loop request\n"
     ]
    },
    {
     "name": "stderr",
     "output_type": "stream",
     "text": [
      "  8%|█████████                                                                                                            | 2/26 [00:09<01:38,  4.09s/it]"
     ]
    },
    {
     "name": "stdout",
     "output_type": "stream",
     "text": [
      "返ってきた商品数の数が0なので、ループ終了\n",
      "3:postprocess\n",
      "1:settings\n",
      "keyword:Tシャツ レッド ツェッペリン\n",
      "2:loop request\n"
     ]
    },
    {
     "name": "stderr",
     "output_type": "stream",
     "text": [
      " 12%|█████████████▌                                                                                                       | 3/26 [00:10<01:03,  2.77s/it]"
     ]
    },
    {
     "name": "stdout",
     "output_type": "stream",
     "text": [
      "返ってきた商品数の数が0なので、ループ終了\n",
      "3:postprocess\n",
      "1:settings\n",
      "keyword:Tシャツ デヴィッドボウイ\n",
      "2:loop request\n"
     ]
    },
    {
     "name": "stderr",
     "output_type": "stream",
     "text": [
      " 15%|██████████████████                                                                                                   | 4/26 [00:11<00:47,  2.15s/it]"
     ]
    },
    {
     "name": "stdout",
     "output_type": "stream",
     "text": [
      "返ってきた商品数の数が0なので、ループ終了\n",
      "3:postprocess\n",
      "1:settings\n",
      "keyword:Tシャツ METALLICA\n",
      "2:loop request\n"
     ]
    },
    {
     "name": "stderr",
     "output_type": "stream",
     "text": [
      " 19%|██████████████████████▌                                                                                              | 5/26 [00:16<01:03,  3.03s/it]"
     ]
    },
    {
     "name": "stdout",
     "output_type": "stream",
     "text": [
      "返ってきた商品数の数が0なので、ループ終了\n",
      "3:postprocess\n",
      "1:settings\n",
      "keyword:Tシャツ Guns N’ Roses\n",
      "2:loop request\n"
     ]
    },
    {
     "name": "stderr",
     "output_type": "stream",
     "text": [
      " 23%|███████████████████████████                                                                                          | 6/26 [00:18<00:55,  2.79s/it]"
     ]
    },
    {
     "name": "stdout",
     "output_type": "stream",
     "text": [
      "返ってきた商品数の数が0なので、ループ終了\n",
      "3:postprocess\n",
      "1:settings\n",
      "keyword:Tシャツ KISS\n",
      "2:loop request\n"
     ]
    },
    {
     "name": "stderr",
     "output_type": "stream",
     "text": [
      " 27%|███████████████████████████████▌                                                                                     | 7/26 [00:26<01:25,  4.48s/it]"
     ]
    },
    {
     "name": "stdout",
     "output_type": "stream",
     "text": [
      "返ってきた商品数の数が0なので、ループ終了\n",
      "3:postprocess\n",
      "1:settings\n",
      "keyword:Tシャツ アイアンメイデン\n",
      "2:loop request\n"
     ]
    },
    {
     "name": "stderr",
     "output_type": "stream",
     "text": [
      " 31%|████████████████████████████████████                                                                                 | 8/26 [00:29<01:08,  3.79s/it]"
     ]
    },
    {
     "name": "stdout",
     "output_type": "stream",
     "text": [
      "返ってきた商品数の数が0なので、ループ終了\n",
      "3:postprocess\n",
      "1:settings\n",
      "keyword:Tシャツ スレイヤー\n",
      "2:loop request\n"
     ]
    },
    {
     "name": "stderr",
     "output_type": "stream",
     "text": [
      " 35%|████████████████████████████████████████▌                                                                            | 9/26 [00:40<01:45,  6.19s/it]"
     ]
    },
    {
     "name": "stdout",
     "output_type": "stream",
     "text": [
      "返ってきた商品数の数が0なので、ループ終了\n",
      "3:postprocess\n",
      "1:settings\n",
      "keyword:Tシャツ ランシド\n",
      "2:loop request\n"
     ]
    },
    {
     "name": "stderr",
     "output_type": "stream",
     "text": [
      " 38%|████████████████████████████████████████████▌                                                                       | 10/26 [00:41<01:14,  4.64s/it]"
     ]
    },
    {
     "name": "stdout",
     "output_type": "stream",
     "text": [
      "返ってきた商品数の数が0なので、ループ終了\n",
      "3:postprocess\n",
      "1:settings\n",
      "keyword:Tシャツ セックスピストルズ\n",
      "2:loop request\n"
     ]
    },
    {
     "name": "stderr",
     "output_type": "stream",
     "text": [
      " 42%|█████████████████████████████████████████████████                                                                   | 11/26 [00:42<00:53,  3.59s/it]"
     ]
    },
    {
     "name": "stdout",
     "output_type": "stream",
     "text": [
      "返ってきた商品数の数が0なので、ループ終了\n",
      "3:postprocess\n",
      "1:settings\n",
      "keyword:Tシャツ RAMONES\n",
      "2:loop request\n"
     ]
    },
    {
     "name": "stderr",
     "output_type": "stream",
     "text": [
      " 46%|█████████████████████████████████████████████████████▌                                                              | 12/26 [00:44<00:40,  2.86s/it]"
     ]
    },
    {
     "name": "stdout",
     "output_type": "stream",
     "text": [
      "返ってきた商品数の数が0なので、ループ終了\n",
      "3:postprocess\n",
      "1:settings\n",
      "keyword:Tシャツ ミスフィッツ\n",
      "2:loop request\n"
     ]
    },
    {
     "name": "stderr",
     "output_type": "stream",
     "text": [
      " 50%|██████████████████████████████████████████████████████████                                                          | 13/26 [00:45<00:30,  2.35s/it]"
     ]
    },
    {
     "name": "stdout",
     "output_type": "stream",
     "text": [
      "返ってきた商品数の数が0なので、ループ終了\n",
      "3:postprocess\n",
      "1:settings\n",
      "keyword:Tシャツ the casualties\n",
      "2:loop request\n",
      "返ってきた商品数の数が0なので、ループ終了\n",
      "3:postprocess\n",
      "1:settings\n",
      "keyword:Tシャツ ニルヴァーナ\n",
      "2:loop request\n"
     ]
    },
    {
     "name": "stderr",
     "output_type": "stream",
     "text": [
      " 58%|██████████████████████████████████████████████████████████████████▉                                                 | 15/26 [00:49<00:25,  2.35s/it]"
     ]
    },
    {
     "name": "stdout",
     "output_type": "stream",
     "text": [
      "返ってきた商品数の数が0なので、ループ終了\n",
      "3:postprocess\n",
      "1:settings\n",
      "keyword:Tシャツ カートコバーン\n",
      "2:loop request\n"
     ]
    },
    {
     "name": "stderr",
     "output_type": "stream",
     "text": [
      " 62%|███████████████████████████████████████████████████████████████████████▍                                            | 16/26 [00:54<00:29,  2.90s/it]"
     ]
    },
    {
     "name": "stdout",
     "output_type": "stream",
     "text": [
      "返ってきた商品数の数が0なので、ループ終了\n",
      "3:postprocess\n",
      "1:settings\n",
      "keyword:Tシャツ The velvet underground\n",
      "2:loop request\n"
     ]
    },
    {
     "name": "stderr",
     "output_type": "stream",
     "text": [
      " 65%|███████████████████████████████████████████████████████████████████████████▊                                        | 17/26 [00:55<00:22,  2.45s/it]"
     ]
    },
    {
     "name": "stdout",
     "output_type": "stream",
     "text": [
      "返ってきた商品数の数が0なので、ループ終了\n",
      "3:postprocess\n",
      "1:settings\n",
      "keyword:Tシャツ pearl jam\n",
      "2:loop request\n"
     ]
    },
    {
     "name": "stderr",
     "output_type": "stream",
     "text": [
      " 69%|████████████████████████████████████████████████████████████████████████████████▎                                   | 18/26 [00:56<00:16,  2.11s/it]"
     ]
    },
    {
     "name": "stdout",
     "output_type": "stream",
     "text": [
      "返ってきた商品数の数が0なので、ループ終了\n",
      "3:postprocess\n",
      "1:settings\n",
      "keyword:Tシャツ foo fighters\n",
      "2:loop request\n"
     ]
    },
    {
     "name": "stderr",
     "output_type": "stream",
     "text": [
      " 73%|████████████████████████████████████████████████████████████████████████████████████▊                               | 19/26 [00:58<00:12,  1.85s/it]"
     ]
    },
    {
     "name": "stdout",
     "output_type": "stream",
     "text": [
      "返ってきた商品数の数が0なので、ループ終了\n",
      "3:postprocess\n",
      "1:settings\n",
      "keyword:Tシャツ スリップノット\n",
      "2:loop request\n"
     ]
    },
    {
     "name": "stderr",
     "output_type": "stream",
     "text": [
      " 77%|█████████████████████████████████████████████████████████████████████████████████████████▏                          | 20/26 [01:00<00:11,  1.98s/it]"
     ]
    },
    {
     "name": "stdout",
     "output_type": "stream",
     "text": [
      "返ってきた商品数の数が0なので、ループ終了\n",
      "3:postprocess\n",
      "1:settings\n",
      "keyword:Tシャツ Korn\n",
      "2:loop request\n"
     ]
    },
    {
     "name": "stderr",
     "output_type": "stream",
     "text": [
      " 81%|█████████████████████████████████████████████████████████████████████████████████████████████▋                      | 21/26 [01:02<00:10,  2.08s/it]"
     ]
    },
    {
     "name": "stdout",
     "output_type": "stream",
     "text": [
      "返ってきた商品数の数が0なので、ループ終了\n",
      "3:postprocess\n",
      "1:settings\n",
      "keyword:Tシャツ Rage Against the Machine\n",
      "2:loop request\n"
     ]
    },
    {
     "name": "stderr",
     "output_type": "stream",
     "text": [
      " 85%|██████████████████████████████████████████████████████████████████████████████████████████████████▏                 | 22/26 [01:03<00:07,  1.83s/it]"
     ]
    },
    {
     "name": "stdout",
     "output_type": "stream",
     "text": [
      "返ってきた商品数の数が0なので、ループ終了\n",
      "3:postprocess\n",
      "1:settings\n",
      "keyword:Tシャツ Linkin Park\n",
      "2:loop request\n"
     ]
    },
    {
     "name": "stderr",
     "output_type": "stream",
     "text": [
      " 88%|██████████████████████████████████████████████████████████████████████████████████████████████████████▌             | 23/26 [01:05<00:04,  1.64s/it]"
     ]
    },
    {
     "name": "stdout",
     "output_type": "stream",
     "text": [
      "返ってきた商品数の数が0なので、ループ終了\n",
      "3:postprocess\n",
      "1:settings\n",
      "keyword:Tシャツ Deftones\n",
      "2:loop request\n"
     ]
    },
    {
     "name": "stderr",
     "output_type": "stream",
     "text": [
      " 92%|███████████████████████████████████████████████████████████████████████████████████████████████████████████         | 24/26 [01:06<00:03,  1.51s/it]"
     ]
    },
    {
     "name": "stdout",
     "output_type": "stream",
     "text": [
      "返ってきた商品数の数が0なので、ループ終了\n",
      "3:postprocess\n",
      "1:settings\n",
      "keyword:Tシャツ PINK FLOYD\n",
      "2:loop request\n"
     ]
    },
    {
     "name": "stderr",
     "output_type": "stream",
     "text": [
      " 96%|███████████████████████████████████████████████████████████████████████████████████████████████████████████████▌    | 25/26 [01:10<00:02,  2.42s/it]"
     ]
    },
    {
     "name": "stdout",
     "output_type": "stream",
     "text": [
      "返ってきた商品数の数が0なので、ループ終了\n",
      "3:postprocess\n",
      "1:settings\n",
      "keyword:Tシャツ JOURNEY\n",
      "2:loop request\n"
     ]
    },
    {
     "name": "stderr",
     "output_type": "stream",
     "text": [
      "100%|████████████████████████████████████████████████████████████████████████████████████████████████████████████████████| 26/26 [01:13<00:00,  2.81s/it]"
     ]
    },
    {
     "name": "stdout",
     "output_type": "stream",
     "text": [
      "返ってきた商品数の数が0なので、ループ終了\n",
      "3:postprocess\n"
     ]
    },
    {
     "name": "stderr",
     "output_type": "stream",
     "text": [
      "\n"
     ]
    }
   ],
   "source": [
    "l_df_main = []\n",
    "for band_name in tqdm(band_list):\n",
    "    print(\"1:settings\")\n",
    "    cnt = 1\n",
    "    keyword = \" \".join([item, band_name])\n",
    "    req_params[\"page\"] = cnt\n",
    "    req_params[\"keyword\"] = keyword\n",
    "    print(f\"keyword:{keyword}\")\n",
    "    print(\"2:loop request\")\n",
    "    df = pd.DataFrame(columns=WANT_ITEMS_RAKUTEN)\n",
    "    df = loop_request(req_params, cnt, df)\n",
    "    print(\"3:postprocess\")\n",
    "    df_main = df.rename(\n",
    "        columns={\"itemName\": \"name\", \"itemPrice\": \"price\", \"itemUrl\": \"url\"}\n",
    "    )\n",
    "    df_main[\"band_name\"] = band_name\n",
    "    l_df_main.append(df_main)\n",
    "df_main_all = pd.concat(l_df_main, ignore_index=True)"
   ]
  },
  {
   "cell_type": "code",
   "execution_count": 6,
   "id": "1b050bdd-9565-4f0e-954b-b5ad0c682149",
   "metadata": {},
   "outputs": [
    {
     "name": "stdout",
     "output_type": "stream",
     "text": [
      "shape: (1455, 4)\n"
     ]
    }
   ],
   "source": [
    "print(\"shape:\", df_main_all.shape)"
   ]
  },
  {
   "cell_type": "code",
   "execution_count": 7,
   "id": "f62b8e01-c4d9-4a2c-a310-a7cfee31d97a",
   "metadata": {},
   "outputs": [
    {
     "name": "stdout",
     "output_type": "stream",
     "text": [
      "バンド別商品数: band_name\n",
      "スレイヤー                       229\n",
      "KISS                        181\n",
      "ローリングストーンズ                  176\n",
      "METALLICA                   103\n",
      "PINK FLOYD                   99\n",
      "ニルヴァーナ                       98\n",
      "カートコバーン                      96\n",
      "JOURNEY                      38\n",
      "スリップノット                      36\n",
      "アイアンメイデン                     35\n",
      "Guns N’ Roses                34\n",
      "ミスフィッツ                       30\n",
      "pearl jam                    27\n",
      "Korn                         27\n",
      "レッド ツェッペリン                   26\n",
      "RAMONES                      20\n",
      "デヴィッドボウイ                     20\n",
      "Rage Against the Machine     19\n",
      "ジミヘン                         15\n",
      "セックスピストルズ                    13\n",
      "Linkin Park                   3\n",
      "foo fighters                  2\n",
      "The velvet underground        2\n",
      "ランシド                          1\n",
      "Deftones                      1\n",
      "Name: name, dtype: int64\n"
     ]
    }
   ],
   "source": [
    "s = df_main_all.groupby(\"band_name\").nunique()[\"name\"]\n",
    "print(\n",
    "    \"バンド別商品数:\",\n",
    "    s.sort_values(ascending=False),\n",
    ")"
   ]
  },
  {
   "cell_type": "code",
   "execution_count": 8,
   "id": "5d6132cf-3c09-4eb7-9632-279c5411101c",
   "metadata": {},
   "outputs": [
    {
     "name": "stdout",
     "output_type": "stream",
     "text": [
      "十分なサンプルサイズを持つバンド名 ['Guns N’ Roses', 'JOURNEY', 'KISS', 'METALLICA', 'PINK FLOYD', 'アイアンメイデン', 'カートコバーン', 'スリップノット', 'スレイヤー', 'ニルヴァーナ', 'ローリングストーンズ']\n"
     ]
    }
   ],
   "source": [
    "df_product_num_per_band_name = s.reset_index()\n",
    "sample_size = 30\n",
    "band_list_over_sample_size = df_product_num_per_band_name[\n",
    "    df_product_num_per_band_name[\"name\"] > sample_size\n",
    "][\"band_name\"].tolist()\n",
    "print(\"十分なサンプルサイズを持つバンド名\", band_list_over_sample_size)"
   ]
  },
  {
   "cell_type": "code",
   "execution_count": 9,
   "id": "e14d9533-3d16-441b-9621-a9c499020b25",
   "metadata": {
    "scrolled": true
   },
   "outputs": [
    {
     "data": {
      "text/html": [
       "<div>\n",
       "<style scoped>\n",
       "    .dataframe tbody tr th:only-of-type {\n",
       "        vertical-align: middle;\n",
       "    }\n",
       "\n",
       "    .dataframe tbody tr th {\n",
       "        vertical-align: top;\n",
       "    }\n",
       "\n",
       "    .dataframe thead th {\n",
       "        text-align: right;\n",
       "    }\n",
       "</style>\n",
       "<table border=\"1\" class=\"dataframe\">\n",
       "  <thead>\n",
       "    <tr style=\"text-align: right;\">\n",
       "      <th></th>\n",
       "      <th>name</th>\n",
       "      <th>price</th>\n",
       "      <th>url</th>\n",
       "      <th>band_name</th>\n",
       "    </tr>\n",
       "  </thead>\n",
       "  <tbody>\n",
       "    <tr>\n",
       "      <th>0</th>\n",
       "      <td>90's ROLLING STONES USA製 \"3 Ball Charlie\" ロックバ...</td>\n",
       "      <td>107800</td>\n",
       "      <td>https://hb.afl.rakuten.co.jp/hgc/g00taeee.brn1...</td>\n",
       "      <td>ローリングストーンズ</td>\n",
       "    </tr>\n",
       "    <tr>\n",
       "      <th>1</th>\n",
       "      <td>【中古】70's　The Rolling Stones/ローリング・ストーンズ　\"Tour ...</td>\n",
       "      <td>87780</td>\n",
       "      <td>https://hb.afl.rakuten.co.jp/hgc/g00tzn6e.brn1...</td>\n",
       "      <td>ローリングストーンズ</td>\n",
       "    </tr>\n",
       "    <tr>\n",
       "      <th>2</th>\n",
       "      <td>DEADSTOCK 90s USA製 ヴィンテージ ローリングストーンズ The Rolli...</td>\n",
       "      <td>84800</td>\n",
       "      <td>https://hb.afl.rakuten.co.jp/hgc/g00rgike.brn1...</td>\n",
       "      <td>ローリングストーンズ</td>\n",
       "    </tr>\n",
       "    <tr>\n",
       "      <th>3</th>\n",
       "      <td>DEADSTOCK 90s USA製 ヴィンテージ ローリングストーンズ The Rolli...</td>\n",
       "      <td>84800</td>\n",
       "      <td>https://hb.afl.rakuten.co.jp/hgc/g00rgike.brn1...</td>\n",
       "      <td>ローリングストーンズ</td>\n",
       "    </tr>\n",
       "    <tr>\n",
       "      <th>4</th>\n",
       "      <td>COMMEdesGARCONS コムデギャルソン xVersaceヴェルサーチェ【21年製】...</td>\n",
       "      <td>83600</td>\n",
       "      <td>https://hb.afl.rakuten.co.jp/hgc/g00s68be.brn1...</td>\n",
       "      <td>ローリングストーンズ</td>\n",
       "    </tr>\n",
       "    <tr>\n",
       "      <th>...</th>\n",
       "      <td>...</td>\n",
       "      <td>...</td>\n",
       "      <td>...</td>\n",
       "      <td>...</td>\n",
       "    </tr>\n",
       "    <tr>\n",
       "      <th>1238</th>\n",
       "      <td>【中古】80s/journey/ラグラン7分袖カットソー/GRY/プリント【メンズウェア】</td>\n",
       "      <td>10890</td>\n",
       "      <td>https://hb.afl.rakuten.co.jp/hgc/g00r3cee.brn1...</td>\n",
       "      <td>JOURNEY</td>\n",
       "    </tr>\n",
       "    <tr>\n",
       "      <th>1239</th>\n",
       "      <td>【中古】Journey_1982s_MUSIC-T Tシャツ/M/コットン/GRY【メンズウェア】</td>\n",
       "      <td>10890</td>\n",
       "      <td>https://hb.afl.rakuten.co.jp/hgc/g00r3cee.brn1...</td>\n",
       "      <td>JOURNEY</td>\n",
       "    </tr>\n",
       "    <tr>\n",
       "      <th>1240</th>\n",
       "      <td>(取寄) アイベックス ジャーニー T-シャツ - メリノ ウール, ショート スリーブ I...</td>\n",
       "      <td>10390</td>\n",
       "      <td>https://hb.afl.rakuten.co.jp/hgc/g00qwfoe.brn1...</td>\n",
       "      <td>JOURNEY</td>\n",
       "    </tr>\n",
       "    <tr>\n",
       "      <th>1241</th>\n",
       "      <td>(取寄) アイベックス ジャーニー シャツ - メリノ ウール, ショート スリーブ Ibe...</td>\n",
       "      <td>10390</td>\n",
       "      <td>https://hb.afl.rakuten.co.jp/hgc/g00rhtxe.brn1...</td>\n",
       "      <td>JOURNEY</td>\n",
       "    </tr>\n",
       "    <tr>\n",
       "      <th>1242</th>\n",
       "      <td>(取寄) アイベックス ジャーニー T-シャツ - メリノ ウール, ショート スリーブ I...</td>\n",
       "      <td>10390</td>\n",
       "      <td>https://hb.afl.rakuten.co.jp/hgc/g00rhtxe.brn1...</td>\n",
       "      <td>JOURNEY</td>\n",
       "    </tr>\n",
       "  </tbody>\n",
       "</table>\n",
       "<p>1243 rows × 4 columns</p>\n",
       "</div>"
      ],
      "text/plain": [
       "                                                   name   price  \\\n",
       "0     90's ROLLING STONES USA製 \"3 Ball Charlie\" ロックバ...  107800   \n",
       "1     【中古】70's　The Rolling Stones/ローリング・ストーンズ　\"Tour ...   87780   \n",
       "2     DEADSTOCK 90s USA製 ヴィンテージ ローリングストーンズ The Rolli...   84800   \n",
       "3     DEADSTOCK 90s USA製 ヴィンテージ ローリングストーンズ The Rolli...   84800   \n",
       "4     COMMEdesGARCONS コムデギャルソン xVersaceヴェルサーチェ【21年製】...   83600   \n",
       "...                                                 ...     ...   \n",
       "1238      【中古】80s/journey/ラグラン7分袖カットソー/GRY/プリント【メンズウェア】   10890   \n",
       "1239  【中古】Journey_1982s_MUSIC-T Tシャツ/M/コットン/GRY【メンズウェア】   10890   \n",
       "1240  (取寄) アイベックス ジャーニー T-シャツ - メリノ ウール, ショート スリーブ I...   10390   \n",
       "1241  (取寄) アイベックス ジャーニー シャツ - メリノ ウール, ショート スリーブ Ibe...   10390   \n",
       "1242  (取寄) アイベックス ジャーニー T-シャツ - メリノ ウール, ショート スリーブ I...   10390   \n",
       "\n",
       "                                                    url   band_name  \n",
       "0     https://hb.afl.rakuten.co.jp/hgc/g00taeee.brn1...  ローリングストーンズ  \n",
       "1     https://hb.afl.rakuten.co.jp/hgc/g00tzn6e.brn1...  ローリングストーンズ  \n",
       "2     https://hb.afl.rakuten.co.jp/hgc/g00rgike.brn1...  ローリングストーンズ  \n",
       "3     https://hb.afl.rakuten.co.jp/hgc/g00rgike.brn1...  ローリングストーンズ  \n",
       "4     https://hb.afl.rakuten.co.jp/hgc/g00s68be.brn1...  ローリングストーンズ  \n",
       "...                                                 ...         ...  \n",
       "1238  https://hb.afl.rakuten.co.jp/hgc/g00r3cee.brn1...     JOURNEY  \n",
       "1239  https://hb.afl.rakuten.co.jp/hgc/g00r3cee.brn1...     JOURNEY  \n",
       "1240  https://hb.afl.rakuten.co.jp/hgc/g00qwfoe.brn1...     JOURNEY  \n",
       "1241  https://hb.afl.rakuten.co.jp/hgc/g00rhtxe.brn1...     JOURNEY  \n",
       "1242  https://hb.afl.rakuten.co.jp/hgc/g00rhtxe.brn1...     JOURNEY  \n",
       "\n",
       "[1243 rows x 4 columns]"
      ]
     },
     "execution_count": 9,
     "metadata": {},
     "output_type": "execute_result"
    }
   ],
   "source": [
    "df_main_filtered = df_main_all[\n",
    "    df_main_all[\"band_name\"].isin(band_list_over_sample_size)\n",
    "].reset_index(drop=True)\n",
    "df_main_filtered"
   ]
  },
  {
   "cell_type": "code",
   "execution_count": 10,
   "id": "9cd4294b-5689-4c3c-970c-2627a61848c4",
   "metadata": {},
   "outputs": [],
   "source": [
    "df_main_filtered.to_csv(\n",
    "    \"../data/output/rakuten_bandTshirts_prices/output.csv\", index=False\n",
    ")"
   ]
  },
  {
   "cell_type": "markdown",
   "id": "8d6a805c-e722-45e0-adb9-862efc0b5b12",
   "metadata": {},
   "source": [
    "# PostProcess"
   ]
  },
  {
   "cell_type": "code",
   "execution_count": 54,
   "id": "dbef35c2-6c00-4c8d-8b76-062b4fb5caf4",
   "metadata": {},
   "outputs": [],
   "source": [
    "df = pd.read_csv(\"../data/output/rakuten_bandTshirts_prices/output.csv\")"
   ]
  },
  {
   "cell_type": "code",
   "execution_count": 55,
   "id": "85f8a88e-1a9b-426e-a698-0dbe3b5e702f",
   "metadata": {},
   "outputs": [],
   "source": [
    "# 表記揺れ対応用の辞書を作成\n",
    "band_aliases = {\n",
    "    \"ローリングストーンズ\": [\n",
    "        \"ローリング・ストーンズ\",\n",
    "        \"rolling stones\",\n",
    "        \"ROLLING STONE\",\n",
    "        \"ローリングストーン\",\n",
    "    ],\n",
    "    \"ジミヘン\": [\"ジミ・ヘンドリックス\", \"jimi hendrix\"],\n",
    "    \"METALLICA\": [\"メタリカ\"],\n",
    "    \"Guns N’ Roses\": [\n",
    "        \"Guns N' Roses\",\n",
    "        \"ガンズ・アンド・ローゼズ\",\n",
    "        \"Guns n Roses\",\n",
    "        \"Guns N’Roses\",\n",
    "        \"GUN'S & ROSES\",\n",
    "        \"ガンズ＆ローゼス\",\n",
    "    ],\n",
    "    \"KISS\": [],\n",
    "    \"アイアンメイデン\": [\"アイアン・メイデン\", \"アイアン メイデン\", \"IRON MAIDEN\"],\n",
    "    \"スレイヤー\": [\"Slayer\"],\n",
    "    \"ニルヴァーナ\": [\"ニルバーナ\", \"NIRVANA\"],\n",
    "    \"カートコバーン\": [\"カート・コバーン\", \"Kurt Cobain\", \"カ-トコバーン\"],\n",
    "    \"スリップノット\": [\"slipknot\", \"SlipKnot\", \"SLIPKNOT\", \"Slipknot\"],\n",
    "    \"PINK FLOYD\": [\"PINKFLOYD\", \"pinkfloyd\"],\n",
    "    \"JOURNEY\": [],\n",
    "}\n",
    "# コラボブランド対応用\n",
    "other_brand_list = [\n",
    "    \"COMMEdesGARCONS\",\n",
    "    \"コムデギャルソン\",\n",
    "    \"CHROME HEARTS\",\n",
    "    \"クロムハーツ\",\n",
    "    \"Supreme\",\n",
    "    \"シュプリーム\",\n",
    "    \"TMT\",\n",
    "    \"Paul Smith\",\n",
    "    \"glamb\",\n",
    "    \"Adam et Rope\",\n",
    "    \"HYSTERIC GLAMOUR\",\n",
    "    \"XXX\",\n",
    "    \"Sadistic Action\",\n",
    "    \"MINEDENIM\",\n",
    "    \"クリスチャンディオール\",\n",
    "    \"HALFMAN\",\n",
    "]\n",
    "\n",
    "\n",
    "# 関数を定義してバンド名を含むレコードを検出\n",
    "def is_valid_record(band_name, product_name, band_aliases):\n",
    "    if band_name not in band_aliases:\n",
    "        return False\n",
    "    aliases = [band_name] + band_aliases[band_name]\n",
    "    pattern = r\"(\" + \"|\".join(re.escape(alias) for alias in aliases) + r\")\"\n",
    "\n",
    "    # Check if product_name contains any of the other brands\n",
    "    other_brand_pattern = (\n",
    "        r\"(\" + \"|\".join(re.escape(brand) for brand in other_brand_list) + r\")\"\n",
    "    )\n",
    "    if re.search(other_brand_pattern, product_name, re.IGNORECASE):\n",
    "        return False\n",
    "\n",
    "    return bool(re.search(pattern, product_name, re.IGNORECASE))\n",
    "\n",
    "\n",
    "# 不正なレコードの検出\n",
    "df[\"is_valid\"] = df.apply(\n",
    "    lambda row: is_valid_record(row[\"band_name\"], row[\"name\"], band_aliases),\n",
    "    axis=1,\n",
    ")\n",
    "invalid_records = df[~df[\"is_valid\"]]\n",
    "valid_records = df[df[\"is_valid\"]]"
   ]
  },
  {
   "cell_type": "code",
   "execution_count": 56,
   "id": "b82dcb1d-8058-4b59-b1eb-27aea12975f8",
   "metadata": {},
   "outputs": [],
   "source": [
    "# TODO:アーティスト単体\n",
    "df_kurt_cobain = valid_records[valid_records[\"band_name\"] == \"カートコバーン\"].copy()\n",
    "df_not_kurt_cobain = valid_records[\n",
    "    valid_records[\"band_name\"] != \"カートコバーン\"\n",
    "].copy()\n",
    "df_kurt_cobain[\"band_name\"] = \"ニルヴァーナ\"\n",
    "valid_records_after = pd.concat([df_not_kurt_cobain, df_kurt_cobain], ignore_index=True)"
   ]
  },
  {
   "cell_type": "code",
   "execution_count": 57,
   "id": "0ffd5a32-42fb-4a66-9420-feacb0db6310",
   "metadata": {},
   "outputs": [
    {
     "name": "stdout",
     "output_type": "stream",
     "text": [
      "218のレコードが削減されました。\n"
     ]
    }
   ],
   "source": [
    "print(f\"{df.shape[0] - valid_records_after.shape[0]}のレコードが削減されました。\")"
   ]
  },
  {
   "cell_type": "code",
   "execution_count": 62,
   "id": "e45fd5a3-f777-40f8-9b6f-a110b1d65436",
   "metadata": {},
   "outputs": [
    {
     "name": "stdout",
     "output_type": "stream",
     "text": [
      "バンド別商品数: band_name\n",
      "ニルヴァーナ           39500.0\n",
      "METALLICA        22550.0\n",
      "Guns N’ Roses    19800.0\n",
      "アイアンメイデン         17380.0\n",
      "KISS             17100.0\n",
      "ローリングストーンズ       16390.0\n",
      "PINK FLOYD       16200.0\n",
      "スリップノット          13970.0\n",
      "スレイヤー            13915.0\n",
      "JOURNEY          11924.5\n",
      "Name: price, dtype: float64\n"
     ]
    }
   ],
   "source": [
    "s = valid_records_after.groupby(\"band_name\")[\"price\"].median()\n",
    "print(\n",
    "    \"バンド別商品数:\",\n",
    "    s.sort_values(ascending=False),\n",
    ")"
   ]
  },
  {
   "cell_type": "code",
   "execution_count": 13,
   "id": "185e6048-03e3-4609-ae03-beab3f805204",
   "metadata": {},
   "outputs": [
    {
     "name": "stdout",
     "output_type": "stream",
     "text": [
      "ローリングストーンズ：商品数：176\n"
     ]
    },
    {
     "data": {
      "image/png": "[encoded data removed]",
      "text/plain": [
       "<Figure size 1000x600 with 1 Axes>"
      ]
     },
     "metadata": {},
     "output_type": "display_data"
    },
    {
     "name": "stdout",
     "output_type": "stream",
     "text": [
      "METALLICA：商品数：103\n"
     ]
    },
    {
     "data": {
      "image/png": "[encoded data removed]",
      "text/plain": [
       "<Figure size 1000x600 with 1 Axes>"
      ]
     },
     "metadata": {},
     "output_type": "display_data"
    },
    {
     "name": "stdout",
     "output_type": "stream",
     "text": [
      "Guns N’ Roses：商品数：34\n"
     ]
    },
    {
     "data": {
      "image/png": "[encoded data removed]",
      "text/plain": [
       "<Figure size 1000x600 with 1 Axes>"
      ]
     },
     "metadata": {},
     "output_type": "display_data"
    },
    {
     "name": "stdout",
     "output_type": "stream",
     "text": [
      "KISS：商品数：181\n"
     ]
    },
    {
     "data": {
      "image/png": "[encoded data removed]",
      "text/plain": [
       "<Figure size 1000x600 with 1 Axes>"
      ]
     },
     "metadata": {},
     "output_type": "display_data"
    },
    {
     "name": "stdout",
     "output_type": "stream",
     "text": [
      "アイアンメイデン：商品数：35\n"
     ]
    },
    {
     "data": {
      "image/png": "[encoded data removed]",
      "text/plain": [
       "<Figure size 1000x600 with 1 Axes>"
      ]
     },
     "metadata": {},
     "output_type": "display_data"
    },
    {
     "name": "stdout",
     "output_type": "stream",
     "text": [
      "スレイヤー：商品数：229\n"
     ]
    },
    {
     "data": {
      "image/png": "[encoded data removed]",
      "text/plain": [
       "<Figure size 1000x600 with 1 Axes>"
      ]
     },
     "metadata": {},
     "output_type": "display_data"
    },
    {
     "name": "stdout",
     "output_type": "stream",
     "text": [
      "ニルヴァーナ：商品数：98\n"
     ]
    },
    {
     "data": {
      "image/png": "[encoded data removed]",
      "text/plain": [
       "<Figure size 1000x600 with 1 Axes>"
      ]
     },
     "metadata": {},
     "output_type": "display_data"
    },
    {
     "name": "stdout",
     "output_type": "stream",
     "text": [
      "カートコバーン：商品数：96\n"
     ]
    },
    {
     "data": {
      "image/png": "[encoded data removed]",
      "text/plain": [
       "<Figure size 1000x600 with 1 Axes>"
      ]
     },
     "metadata": {},
     "output_type": "display_data"
    },
    {
     "name": "stdout",
     "output_type": "stream",
     "text": [
      "スリップノット：商品数：36\n"
     ]
    },
    {
     "data": {
      "image/png": "[encoded data removed]",
      "text/plain": [
       "<Figure size 1000x600 with 1 Axes>"
      ]
     },
     "metadata": {},
     "output_type": "display_data"
    },
    {
     "name": "stdout",
     "output_type": "stream",
     "text": [
      "PINK FLOYD：商品数：99\n"
     ]
    },
    {
     "data": {
      "image/png": "[encoded data removed]",
      "text/plain": [
       "<Figure size 1000x600 with 1 Axes>"
      ]
     },
     "metadata": {},
     "output_type": "display_data"
    },
    {
     "name": "stdout",
     "output_type": "stream",
     "text": [
      "JOURNEY：商品数：38\n"
     ]
    },
    {
     "data": {
      "image/png": "[encoded data removed]",
      "text/plain": [
       "<Figure size 1000x600 with 1 Axes>"
      ]
     },
     "metadata": {},
     "output_type": "display_data"
    }
   ],
   "source": [
    "# バンドごとに価格帯の分布をプロット\n",
    "bands = valid_records_after[\"band_name\"].unique()\n",
    "with warnings.catch_warnings():\n",
    "    warnings.simplefilter(\"ignore\", UserWarning)\n",
    "    for band in bands:\n",
    "        print(\n",
    "            f\"{band}：商品数：{valid_records_after[valid_records_after['band_name'] == band]['name'].nunique()}\"\n",
    "        )\n",
    "        band_data = valid_records_after[valid_records_after[\"band_name\"] == band]\n",
    "        plt.figure(figsize=(10, 6))\n",
    "        plt.hist(band_data[\"price\"], bins=20, edgecolor=\"black\")\n",
    "        plt.grid(True)\n",
    "        plt.show()"
   ]
  },
  {
   "cell_type": "code",
   "execution_count": 63,
   "id": "aefab7f9-3e0a-46ec-b52a-8252b936211a",
   "metadata": {},
   "outputs": [
    {
     "name": "stdout",
     "output_type": "stream",
     "text": [
      "バンド別平均価格: band_name\n",
      "ニルヴァーナ           78202.777778\n",
      "Guns N’ Roses    39857.571429\n",
      "METALLICA        34765.724771\n",
      "PINK FLOYD       25476.912621\n",
      "KISS             23025.890244\n",
      "アイアンメイデン         21073.216216\n",
      "ローリングストーンズ       20455.099415\n",
      "スレイヤー            18823.541237\n",
      "スリップノット          16978.918919\n",
      "JOURNEY          15478.100000\n",
      "Name: price, dtype: float64\n"
     ]
    }
   ],
   "source": [
    "print(\n",
    "    \"バンド別平均価格:\",\n",
    "    valid_records_after.groupby(\"band_name\")[\"price\"]\n",
    "    .mean()\n",
    "    .sort_values(ascending=False),\n",
    ")"
   ]
  },
  {
   "cell_type": "code",
   "execution_count": 64,
   "id": "dff9bbcb-1b87-4c75-9b6f-5c0267509379",
   "metadata": {},
   "outputs": [
    {
     "name": "stdout",
     "output_type": "stream",
     "text": [
      "バンド別平均価格: band_name\n",
      "ニルヴァーナ           39500.0\n",
      "METALLICA        22550.0\n",
      "Guns N’ Roses    19800.0\n",
      "アイアンメイデン         17380.0\n",
      "KISS             17100.0\n",
      "ローリングストーンズ       16390.0\n",
      "PINK FLOYD       16200.0\n",
      "スリップノット          13970.0\n",
      "スレイヤー            13915.0\n",
      "JOURNEY          11924.5\n",
      "Name: price, dtype: float64\n"
     ]
    }
   ],
   "source": [
    "print(\n",
    "    \"バンド別平均価格:\",\n",
    "    valid_records_after.groupby(\"band_name\")[\"price\"]\n",
    "    .median()\n",
    "    .sort_values(ascending=False),\n",
    ")"
   ]
  }
 ],
 "metadata": {
  "kernelspec": {
   "display_name": "Python 3 (ipykernel)",
   "language": "python",
   "name": "python3"
  },
  "language_info": {
   "codemirror_mode": {
    "name": "ipython",
    "version": 3
   },
   "file_extension": ".py",
   "mimetype": "text/x-python",
   "name": "python",
   "nbconvert_exporter": "python",
   "pygments_lexer": "ipython3",
   "version": "3.9.16"
  }
 },
 "nbformat": 4,
 "nbformat_minor": 5
}
