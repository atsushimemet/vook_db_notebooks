{
  "cells": [
    {
      "cell_type": "markdown",
      "id": "e21da840-080a-4ab6-b0bc-cea8547075ce",
      "metadata": {},
      "source": [
        "# 実行内容\n",
        "- configの設定\n",
        "- 実行\n",
        "  - EC2にSSH接続\n",
        "  - EC2からDBにアクセス\n",
        "  - データを取得\n",
        "- 保存\n",
        "- 確認"
      ]
    },
    {
      "cell_type": "code",
      "execution_count": 29,
      "id": "fda15091-89eb-4738-b42b-338dbb45ad32",
      "metadata": {},
      "outputs": [],
      "source": [
        "import sys\n",
        "\n",
        "sys.path.append(\"../\")\n",
        "from datetime import datetime\n",
        "\n",
        "import pandas as pd\n",
        "import pymysql\n",
        "from sshtunnel import SSHTunnelForwarder\n",
        "\n",
        "from vook_db_lambda.local_config import get_ec2_config, get_rds_config\n",
        "from vook_db_lambda.rds_handler import get_products, read_sql_file"
      ]
    },
    {
      "cell_type": "code",
      "execution_count": 26,
      "id": "fbeb956b-2161-4b95-9134-9356883601f3",
      "metadata": {},
      "outputs": [],
      "source": [
        "# get_products()"
      ]
    },
    {
      "cell_type": "code",
      "execution_count": 27,
      "id": "584b8ec4-fce9-4699-8f30-f4dac0d02f6a",
      "metadata": {},
      "outputs": [
        {
          "name": "stdout",
          "output_type": "stream",
          "text": [
            "Local bind port: 61903\n"
          ]
        }
      ],
      "source": [
        "config_ec2 = get_ec2_config()\n",
        "query = read_sql_file(\"../vook_db_lambda/sql/products.sql\")\n",
        "df_from_db = pd.DataFrame()\n",
        "with SSHTunnelForwarder(\n",
        "    (config_ec2[\"host_name\"], config_ec2[\"ec2_port\"]),\n",
        "    ssh_username=config_ec2[\"ssh_username\"],\n",
        "    ssh_pkey=config_ec2[\"ssh_pkey\"],\n",
        "    remote_bind_address=(\n",
        "        config_ec2[\"rds_end_point\"],\n",
        "        config_ec2[\"rds_port\"],\n",
        "    ),\n",
        ") as server:\n",
        "    print(f\"Local bind port: {server.local_bind_port}\")\n",
        "    conn = None\n",
        "    try:\n",
        "        conn = pymysql.connect(\n",
        "            **get_rds_config(server.local_bind_port),\n",
        "            connect_timeout=10,\n",
        "        )\n",
        "        cursor = conn.cursor()\n",
        "        cursor.execute(query)\n",
        "        for row in cursor:  # column1, column2, ...は取得したいカラム名に合わせて変更してください\n",
        "            df_from_db = pd.concat([df_from_db, pd.DataFrame([row])], ignore_index=True)\n",
        "    except pymysql.MySQLError as e:\n",
        "        print(f\"Error connecting to MySQL: {e}\")\n",
        "    finally:\n",
        "        if conn is not None:\n",
        "            conn.close()"
      ]
    },
    {
      "cell_type": "code",
      "execution_count": 28,
      "id": "d7a99253-e6e0-47df-8bd1-f6fa17774621",
      "metadata": {},
      "outputs": [
        {
          "data": {
            "text/plain": [
              "(2699, 9)"
            ]
          },
          "execution_count": 28,
          "metadata": {},
          "output_type": "execute_result"
        }
      ],
      "source": [
        "df_from_db.shape"
      ]
    },
    {
      "cell_type": "code",
      "execution_count": 49,
      "id": "ee5897d3-f8c5-4ea6-866f-484f049fd92e",
      "metadata": {
        "collapsed": true,
        "jupyter": {
          "outputs_hidden": true
        }
      },
      "outputs": [
        {
          "data": {
            "text/html": [
              "<div>\n",
              "<style scoped>\n",
              "    .dataframe tbody tr th:only-of-type {\n",
              "        vertical-align: middle;\n",
              "    }\n",
              "\n",
              "    .dataframe tbody tr th {\n",
              "        vertical-align: top;\n",
              "    }\n",
              "\n",
              "    .dataframe thead th {\n",
              "        text-align: right;\n",
              "    }\n",
              "</style>\n",
              "<table border=\"1\" class=\"dataframe\">\n",
              "  <thead>\n",
              "    <tr style=\"text-align: right;\">\n",
              "      <th></th>\n",
              "      <th>id</th>\n",
              "      <th>name</th>\n",
              "      <th>url</th>\n",
              "      <th>price</th>\n",
              "      <th>knowledge_id</th>\n",
              "      <th>platform_id</th>\n",
              "      <th>size_id</th>\n",
              "      <th>created_at</th>\n",
              "      <th>updated_at</th>\n",
              "    </tr>\n",
              "  </thead>\n",
              "  <tbody>\n",
              "    <tr>\n",
              "      <th>0</th>\n",
              "      <td>1</td>\n",
              "      <td>Levi's リーバイス デニムパンツ ヴィンテージ 501 66前期 ビックE トップボタ...</td>\n",
              "      <td>https://hb.afl.rakuten.co.jp/hgc/g00rc6oe.brn1...</td>\n",
              "      <td>418979</td>\n",
              "      <td>5</td>\n",
              "      <td>1</td>\n",
              "      <td>999</td>\n",
              "      <td>2023-09-30 12:30:42.414466</td>\n",
              "      <td>2023-09-30 12:30:42.414466</td>\n",
              "    </tr>\n",
              "    <tr>\n",
              "      <th>1</th>\n",
              "      <td>2</td>\n",
              "      <td>リーバイス 70s 501 66前期 BIGE ストレート デニムパンツ W31 Levi'...</td>\n",
              "      <td>https://hb.afl.rakuten.co.jp/hgc/g00rf2ie.brn1...</td>\n",
              "      <td>327800</td>\n",
              "      <td>5</td>\n",
              "      <td>1</td>\n",
              "      <td>999</td>\n",
              "      <td>2023-09-30 12:30:42.414466</td>\n",
              "      <td>2023-09-30 12:30:42.414466</td>\n",
              "    </tr>\n",
              "    <tr>\n",
              "      <th>2</th>\n",
              "      <td>3</td>\n",
              "      <td>Levi's ヴィンテージ リーバイス パンツ 501 66前期 BigE デニムパンツ 濃...</td>\n",
              "      <td>https://hb.afl.rakuten.co.jp/hgc/g00s4pxe.brn1...</td>\n",
              "      <td>251800</td>\n",
              "      <td>5</td>\n",
              "      <td>1</td>\n",
              "      <td>999</td>\n",
              "      <td>2023-09-30 12:30:42.414466</td>\n",
              "      <td>2023-09-30 12:30:42.414466</td>\n",
              "    </tr>\n",
              "    <tr>\n",
              "      <th>3</th>\n",
              "      <td>4</td>\n",
              "      <td>リーバイス 501 66前期 赤耳 テーパード デニム パンツ W32 Levi's メンズ...</td>\n",
              "      <td>https://hb.afl.rakuten.co.jp/hgc/g00rf2ie.brn1...</td>\n",
              "      <td>96800</td>\n",
              "      <td>5</td>\n",
              "      <td>1</td>\n",
              "      <td>999</td>\n",
              "      <td>2023-09-30 12:30:42.414466</td>\n",
              "      <td>2023-09-30 12:30:42.414466</td>\n",
              "    </tr>\n",
              "    <tr>\n",
              "      <th>4</th>\n",
              "      <td>5</td>\n",
              "      <td>【中古】リーバイス Levis 70S 66前期 501 裏刻印6 BIG E 赤耳 Sin...</td>\n",
              "      <td>https://hb.afl.rakuten.co.jp/hgc/g00rbope.brn1...</td>\n",
              "      <td>91289</td>\n",
              "      <td>5</td>\n",
              "      <td>1</td>\n",
              "      <td>999</td>\n",
              "      <td>2023-09-30 12:30:42.414466</td>\n",
              "      <td>2023-09-30 12:30:42.414466</td>\n",
              "    </tr>\n",
              "    <tr>\n",
              "      <th>...</th>\n",
              "      <td>...</td>\n",
              "      <td>...</td>\n",
              "      <td>...</td>\n",
              "      <td>...</td>\n",
              "      <td>...</td>\n",
              "      <td>...</td>\n",
              "      <td>...</td>\n",
              "      <td>...</td>\n",
              "      <td>...</td>\n",
              "    </tr>\n",
              "    <tr>\n",
              "      <th>2694</th>\n",
              "      <td>3055</td>\n",
              "      <td>【中古】Lee◆復刻 /91-Jカバーオール/38/コットン/KHK/無地/92412【メン...</td>\n",
              "      <td>https://hb.afl.rakuten.co.jp/hgc/g00r3cee.brn1...</td>\n",
              "      <td>4290</td>\n",
              "      <td>88</td>\n",
              "      <td>1</td>\n",
              "      <td>999</td>\n",
              "      <td>2023-11-19 13:14:08.081758</td>\n",
              "      <td>2023-11-19 13:14:08.081758</td>\n",
              "    </tr>\n",
              "    <tr>\n",
              "      <th>2695</th>\n",
              "      <td>3056</td>\n",
              "      <td>【中古】Lee◆カバーオール/34/ナイロン/カーキ/91-J【メンズウェア】</td>\n",
              "      <td>https://hb.afl.rakuten.co.jp/hgc/g00r3cee.brn1...</td>\n",
              "      <td>4290</td>\n",
              "      <td>88</td>\n",
              "      <td>1</td>\n",
              "      <td>999</td>\n",
              "      <td>2023-11-19 13:14:08.081758</td>\n",
              "      <td>2023-11-19 13:14:08.081758</td>\n",
              "    </tr>\n",
              "    <tr>\n",
              "      <th>2696</th>\n",
              "      <td>3057</td>\n",
              "      <td>【中古】 Brenda Lee / Here Comes That Feeling 輸入盤 ...</td>\n",
              "      <td>https://hb.afl.rakuten.co.jp/hgc/g00qs41e.brn1...</td>\n",
              "      <td>440</td>\n",
              "      <td>88</td>\n",
              "      <td>1</td>\n",
              "      <td>999</td>\n",
              "      <td>2023-11-19 13:14:08.081758</td>\n",
              "      <td>2023-11-19 13:14:08.081758</td>\n",
              "    </tr>\n",
              "    <tr>\n",
              "      <th>2697</th>\n",
              "      <td>3058</td>\n",
              "      <td>【中古】 Brenda Lee / Here Comes That Feeling 輸入盤 ...</td>\n",
              "      <td>https://hb.afl.rakuten.co.jp/hgc/g00svqpe.brn1...</td>\n",
              "      <td>440</td>\n",
              "      <td>88</td>\n",
              "      <td>1</td>\n",
              "      <td>999</td>\n",
              "      <td>2023-11-19 13:14:08.081758</td>\n",
              "      <td>2023-11-19 13:14:08.081758</td>\n",
              "    </tr>\n",
              "    <tr>\n",
              "      <th>2698</th>\n",
              "      <td>3059</td>\n",
              "      <td>【中古】 Brenda Lee / Here Comes That Feeling 輸入盤 ...</td>\n",
              "      <td>https://hb.afl.rakuten.co.jp/hgc/g00tbz7e.brn1...</td>\n",
              "      <td>390</td>\n",
              "      <td>88</td>\n",
              "      <td>1</td>\n",
              "      <td>999</td>\n",
              "      <td>2023-11-19 13:14:08.081758</td>\n",
              "      <td>2023-11-19 13:14:08.081758</td>\n",
              "    </tr>\n",
              "  </tbody>\n",
              "</table>\n",
              "<p>2699 rows × 9 columns</p>\n",
              "</div>"
            ],
            "text/plain": [
              "        id                                               name  \\\n",
              "0        1  Levi's リーバイス デニムパンツ ヴィンテージ 501 66前期 ビックE トップボタ...   \n",
              "1        2  リーバイス 70s 501 66前期 BIGE ストレート デニムパンツ W31 Levi'...   \n",
              "2        3  Levi's ヴィンテージ リーバイス パンツ 501 66前期 BigE デニムパンツ 濃...   \n",
              "3        4  リーバイス 501 66前期 赤耳 テーパード デニム パンツ W32 Levi's メンズ...   \n",
              "4        5  【中古】リーバイス Levis 70S 66前期 501 裏刻印6 BIG E 赤耳 Sin...   \n",
              "...    ...                                                ...   \n",
              "2694  3055  【中古】Lee◆復刻 /91-Jカバーオール/38/コットン/KHK/無地/92412【メン...   \n",
              "2695  3056            【中古】Lee◆カバーオール/34/ナイロン/カーキ/91-J【メンズウェア】   \n",
              "2696  3057  【中古】 Brenda Lee / Here Comes That Feeling 輸入盤 ...   \n",
              "2697  3058  【中古】 Brenda Lee / Here Comes That Feeling 輸入盤 ...   \n",
              "2698  3059  【中古】 Brenda Lee / Here Comes That Feeling 輸入盤 ...   \n",
              "\n",
              "                                                    url   price  knowledge_id  \\\n",
              "0     https://hb.afl.rakuten.co.jp/hgc/g00rc6oe.brn1...  418979             5   \n",
              "1     https://hb.afl.rakuten.co.jp/hgc/g00rf2ie.brn1...  327800             5   \n",
              "2     https://hb.afl.rakuten.co.jp/hgc/g00s4pxe.brn1...  251800             5   \n",
              "3     https://hb.afl.rakuten.co.jp/hgc/g00rf2ie.brn1...   96800             5   \n",
              "4     https://hb.afl.rakuten.co.jp/hgc/g00rbope.brn1...   91289             5   \n",
              "...                                                 ...     ...           ...   \n",
              "2694  https://hb.afl.rakuten.co.jp/hgc/g00r3cee.brn1...    4290            88   \n",
              "2695  https://hb.afl.rakuten.co.jp/hgc/g00r3cee.brn1...    4290            88   \n",
              "2696  https://hb.afl.rakuten.co.jp/hgc/g00qs41e.brn1...     440            88   \n",
              "2697  https://hb.afl.rakuten.co.jp/hgc/g00svqpe.brn1...     440            88   \n",
              "2698  https://hb.afl.rakuten.co.jp/hgc/g00tbz7e.brn1...     390            88   \n",
              "\n",
              "      platform_id  size_id                 created_at  \\\n",
              "0               1      999 2023-09-30 12:30:42.414466   \n",
              "1               1      999 2023-09-30 12:30:42.414466   \n",
              "2               1      999 2023-09-30 12:30:42.414466   \n",
              "3               1      999 2023-09-30 12:30:42.414466   \n",
              "4               1      999 2023-09-30 12:30:42.414466   \n",
              "...           ...      ...                        ...   \n",
              "2694            1      999 2023-11-19 13:14:08.081758   \n",
              "2695            1      999 2023-11-19 13:14:08.081758   \n",
              "2696            1      999 2023-11-19 13:14:08.081758   \n",
              "2697            1      999 2023-11-19 13:14:08.081758   \n",
              "2698            1      999 2023-11-19 13:14:08.081758   \n",
              "\n",
              "                     updated_at  \n",
              "0    2023-09-30 12:30:42.414466  \n",
              "1    2023-09-30 12:30:42.414466  \n",
              "2    2023-09-30 12:30:42.414466  \n",
              "3    2023-09-30 12:30:42.414466  \n",
              "4    2023-09-30 12:30:42.414466  \n",
              "...                         ...  \n",
              "2694 2023-11-19 13:14:08.081758  \n",
              "2695 2023-11-19 13:14:08.081758  \n",
              "2696 2023-11-19 13:14:08.081758  \n",
              "2697 2023-11-19 13:14:08.081758  \n",
              "2698 2023-11-19 13:14:08.081758  \n",
              "\n",
              "[2699 rows x 9 columns]"
            ]
          },
          "execution_count": 49,
          "metadata": {},
          "output_type": "execute_result"
        }
      ],
      "source": [
        "df_from_db"
      ]
    },
    {
      "cell_type": "code",
      "execution_count": 34,
      "id": "8b2aa4e0-a829-4570-bbbb-4ea941d4155c",
      "metadata": {},
      "outputs": [],
      "source": [
        "now = datetime.now().strftime(\"%Y%m%d_%H%M%S\")"
      ]
    },
    {
      "cell_type": "code",
      "execution_count": 37,
      "id": "780ff90e-0f6e-4422-964b-79be8e75fe55",
      "metadata": {},
      "outputs": [],
      "source": [
        "df_from_db.to_csv(f\"../data/output/backup_{now}.csv\", index=False)"
      ]
    },
    {
      "cell_type": "code",
      "execution_count": 39,
      "id": "592b4b0b-54f8-4f2c-9d78-7417743240d3",
      "metadata": {},
      "outputs": [
        {
          "data": {
            "text/plain": [
              "'20240127_211945'"
            ]
          },
          "execution_count": 39,
          "metadata": {},
          "output_type": "execute_result"
        }
      ],
      "source": [
        "now"
      ]
    },
    {
      "cell_type": "code",
      "execution_count": 38,
      "id": "021e629f-3be6-45f5-94a6-c6dc286fc507",
      "metadata": {},
      "outputs": [],
      "source": [
        "# 現在の平均価格 BIG E テスト\n",
        "# 平均価格\n",
        "# 63,361円\n",
        "# 最低価格\n",
        "# 7,590円\n",
        "# 最高価格\n",
        "# 536,250円"
      ]
    },
    {
      "cell_type": "code",
      "execution_count": 50,
      "id": "10d77354-8d43-4e13-aa48-03e645153633",
      "metadata": {},
      "outputs": [
        {
          "data": {
            "text/plain": [
              "(63361.181818181816, 7590, 536250)"
            ]
          },
          "execution_count": 50,
          "metadata": {},
          "output_type": "execute_result"
        }
      ],
      "source": [
        "(\n",
        "    df_from_db[df_from_db[\"knowledge_id\"] == 10][\"price\"].mean(),\n",
        "    df_from_db[df_from_db[\"knowledge_id\"] == 10][\"price\"].min(),\n",
        "    df_from_db[df_from_db[\"knowledge_id\"] == 10][\"price\"].max(),\n",
        ")"
      ]
    },
    {
      "cell_type": "code",
      "execution_count": null,
      "id": "b3e8d601-951e-43c9-bef8-6c6d987dbea9",
      "metadata": {},
      "outputs": [],
      "source": []
    }
  ],
  "metadata": {
    "kernelspec": {
      "display_name": "Python 3 (ipykernel)",
      "language": "python",
      "name": "python3"
    },
    "language_info": {
      "codemirror_mode": {
        "name": "ipython",
        "version": 3
      },
      "file_extension": ".py",
      "mimetype": "text/x-python",
      "name": "python",
      "nbconvert_exporter": "python",
      "pygments_lexer": "ipython3",
      "version": "3.9.16"
    }
  },
  "nbformat": 4,
  "nbformat_minor": 5
}
