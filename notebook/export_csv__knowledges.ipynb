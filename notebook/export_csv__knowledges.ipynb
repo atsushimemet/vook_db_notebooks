{
 "cells": [
  {
   "cell_type": "code",
   "execution_count": 1,
   "id": "55abc36c-6183-4ab8-b376-887f43aaa2bd",
   "metadata": {},
   "outputs": [
    {
     "name": "stdout",
     "output_type": "stream",
     "text": [
      "Now: Local env\n",
      "Local bind port: 54013\n",
      "   knowledge_id knowledge_name  brand_id brand_name          line_name\n",
      "0             5           66前期         1     Levi's                501\n",
      "1             8            1st         7   U.S.ARMY  M-65 FIELD JACKET\n",
      "2            10          BIG E         1     Levi's                501\n",
      "3            11           片面タブ         1     Levi's              501XX\n",
      "4            12           両面タブ         1     Levi's              501XX\n"
     ]
    }
   ],
   "source": [
    "import os\n",
    "\n",
    "os.chdir(\"../\")\n",
    "from datetime import datetime\n",
    "\n",
    "from vook_db_lambda.rds_handler import get_knowledges\n",
    "\n",
    "df_knowledges = get_knowledges()\n",
    "print(df_knowledges.head())\n",
    "dt_now = datetime.now().strftime(\"%Y%m%d%H%M%S\")\n",
    "df_knowledges.to_csv(f\"./data/output/knowledges_data_{dt_now}.csv\", index=False)"
   ]
  }
 ],
 "metadata": {
  "kernelspec": {
   "display_name": "Python 3 (ipykernel)",
   "language": "python",
   "name": "python3"
  },
  "language_info": {
   "codemirror_mode": {
    "name": "ipython",
    "version": 3
   },
   "file_extension": ".py",
   "mimetype": "text/x-python",
   "name": "python",
   "nbconvert_exporter": "python",
   "pygments_lexer": "ipython3",
   "version": "3.9.16"
  }
 },
 "nbformat": 4,
 "nbformat_minor": 5
}
